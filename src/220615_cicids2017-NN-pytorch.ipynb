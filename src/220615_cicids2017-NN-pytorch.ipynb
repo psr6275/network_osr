{
 "cells": [
  {
   "cell_type": "code",
   "execution_count": 1,
   "metadata": {},
   "outputs": [],
   "source": [
    "import numpy as np\n",
    "import os\n",
    "import pickle\n",
    "import torch\n",
    "import torch.nn as nn\n",
    "import torch.optim as optim\n",
    "\n",
    "from torch.utils.data import TensorDataset\n",
    "from torch.utils.data import DataLoader\n",
    "\n",
    "from sklearn.preprocessing import StandardScaler\n",
    "import pandas as pd\n",
    "\n",
    "from utils import *"
   ]
  },
  {
   "cell_type": "code",
   "execution_count": 2,
   "metadata": {},
   "outputs": [],
   "source": [
    "device = torch.device('cuda:0')"
   ]
  },
  {
   "cell_type": "code",
   "execution_count": 3,
   "metadata": {},
   "outputs": [],
   "source": [
    "result_dir = '../results/ids-dataset'\n",
    "batch_size = 256"
   ]
  },
  {
   "cell_type": "code",
   "execution_count": 5,
   "metadata": {},
   "outputs": [],
   "source": [
    "Xtr_, ytr, Xte_,yte,st_scaler_bn = load_cicids_data(dataname=\"2017\",prob_type=\"binary\",\n",
    "                                                  result_dir = result_dir, return_scaler =True)"
   ]
  },
  {
   "cell_type": "code",
   "execution_count": 6,
   "metadata": {},
   "outputs": [],
   "source": [
    "Xtr = st_scaler_bn.transform(Xtr_)\n",
    "Xte = st_scaler_bn.transform(Xte_)\n",
    "train_bnloader = make_dataloader(Xtr,ytr, batch_size = batch_size, shuffle=True)\n",
    "test_bnloader = make_dataloader(Xte,yte, batch_size = batch_size, shuffle=False)"
   ]
  },
  {
   "cell_type": "code",
   "execution_count": 7,
   "metadata": {},
   "outputs": [
    {
     "name": "stdout",
     "output_type": "stream",
     "text": [
      "{'Web Attack \\x96 Brute Force': 0, 'Web Attack \\x96 XSS': 0, 'Web Attack \\x96 Sql Injection': 0, 'DDoS': 1, 'Bot': 2, 'DoS slowloris': 3, 'DoS Slowhttptest': 4, 'DoS Hulk': 5, 'DoS GoldenEye': 6, 'PortScan': 7, 'FTP-Patator': 8, 'SSH-Patator': 9}\n",
      "drop Benign\n",
      "drop Infiltration\n",
      "drop Heartbleed\n",
      "original instances:  1040360\n",
      "drop intances:  751106\n",
      "after drop:  289254\n",
      "drop Benign\n",
      "drop Infiltration\n",
      "drop Heartbleed\n",
      "original instances:  260090\n",
      "drop intances:  187670\n",
      "after drop:  72420\n"
     ]
    }
   ],
   "source": [
    "Xtrm_, ytrm, Xtem_,ytem,st_scaler_mul = load_cicids_data(dataname=\"2017\",prob_type=\"mult\",\n",
    "                                                         result_dir = result_dir, return_scaler =True)"
   ]
  },
  {
   "cell_type": "code",
   "execution_count": 9,
   "metadata": {},
   "outputs": [],
   "source": [
    "Xtrm = st_scaler_mul.transform(Xtrm_)\n",
    "Xtem = st_scaler_mul.transform(Xtem_)\n",
    "train_mulloader = make_dataloader(Xtrm,ytrm.to_numpy().flatten(), batch_size = batch_size, shuffle=True)\n",
    "test_mulloader = make_dataloader(Xtem,ytem.to_numpy().flatten(), batch_size = batch_size, shuffle=False)"
   ]
  },
  {
   "cell_type": "markdown",
   "metadata": {},
   "source": [
    "## 수정 필요! scaling 을 multi-classification 에 맞추어야 함!"
   ]
  },
  {
   "cell_type": "code",
   "execution_count": 11,
   "metadata": {},
   "outputs": [],
   "source": [
    "Xbtr = st_scaler_mul.transform(Xtr_[ytr==0])\n",
    "Xbte = st_scaler_mul.transform(Xte_[yte==0])\n",
    "outlier_trloader = make_dataloader(Xbtr,np.zeros(len(Xbtr)),batch_size=batch_size, shuffle=True)\n",
    "outlier_teloader = make_dataloader(Xbte,np.zeros(len(Xbte)),batch_size=batch_size, shuffle=True)"
   ]
  },
  {
   "cell_type": "code",
   "execution_count": 12,
   "metadata": {},
   "outputs": [
    {
     "name": "stdout",
     "output_type": "stream",
     "text": [
      "{'Web Attack \\x96 Brute Force': 0, 'Web Attack \\x96 XSS': 0, 'Web Attack \\x96 Sql Injection': 0, 'DDoS': 1, 'Bot': 2, 'DoS slowloris': 3, 'DoS Slowhttptest': 4, 'DoS Hulk': 5, 'DoS GoldenEye': 6, 'PortScan': 7, 'FTP-Patator': 8, 'SSH-Patator': 9}\n"
     ]
    }
   ],
   "source": [
    "lab_dic, lab_name = cluster_labels_2017()"
   ]
  },
  {
   "cell_type": "markdown",
   "metadata": {},
   "source": [
    "# binary classification"
   ]
  },
  {
   "cell_type": "code",
   "execution_count": 11,
   "metadata": {},
   "outputs": [],
   "source": [
    "n_features = Xtr.shape[1]\n",
    "clf_bn = BinaryNN(n_features)"
   ]
  },
  {
   "cell_type": "code",
   "execution_count": 12,
   "metadata": {},
   "outputs": [],
   "source": [
    "epochs = 30\n",
    "criterion_bn = nn.BCELoss()\n",
    "optim_bn = optim.Adam(clf_bn.parameters(),lr=0.0001)"
   ]
  },
  {
   "cell_type": "code",
   "execution_count": 19,
   "metadata": {},
   "outputs": [
    {
     "data": {
      "text/plain": [
       "<All keys matched successfully>"
      ]
     },
     "execution_count": 19,
     "metadata": {},
     "output_type": "execute_result"
    }
   ],
   "source": [
    "clf_bn.load_state_dict(torch.load(os.path.join(result_dir, \"cicids17_bn_clf.pth\"),map_location='cpu'))\n",
    "# clf_bn = train_model(clf_bn, train_bnloader, optim_bn, device, criterion_bn, epochs, save_dir = result_dir, \n",
    "#                      save_model = \"cicids17_bn_clf.pth\",binary=True)"
   ]
  },
  {
   "cell_type": "code",
   "execution_count": 18,
   "metadata": {
    "scrolled": true
   },
   "outputs": [
    {
     "data": {
      "text/plain": [
       "(tensor(0.0304), tensor(0.9927), tensor(0.0047))"
      ]
     },
     "execution_count": 18,
     "metadata": {},
     "output_type": "execute_result"
    }
   ],
   "source": [
    "# torch.save(clf_mul,os.path.join(result_dir, \"cicids17_bn_clf.pth\"))\n",
    "test_model(clf_bn, test_bnloader, criterion, device, 100.0, binary=True)"
   ]
  },
  {
   "cell_type": "code",
   "execution_count": 26,
   "metadata": {},
   "outputs": [],
   "source": [
    "from sklearn.metrics import roc_curve, auc\n",
    "\n",
    "predy = get_prediction(clf_bn, test_bnloader, device)\n",
    "testy = test_bnloader.dataset.tensors[1]\n",
    "pos_label = 1 # 1 or 0\n",
    "fpr, tpr, thresholds = roc_curve(testy.numpy(), predy.numpy(), pos_label=pos_label)\n",
    "roc_auc = auc(fpr, tpr)"
   ]
  },
  {
   "cell_type": "code",
   "execution_count": 27,
   "metadata": {},
   "outputs": [
    {
     "data": {
      "image/png": "[encoded data removed]",
      "text/plain": [
       "<Figure size 432x288 with 1 Axes>"
      ]
     },
     "metadata": {
      "needs_background": "light"
     },
     "output_type": "display_data"
    }
   ],
   "source": [
    "import matplotlib.pyplot as plt\n",
    "\n",
    "lw=2\n",
    "plt.figure()\n",
    "plt.plot(fpr, tpr, color=\"darkorange\", lw=lw, label =\"ROC curve (area= %.2f)\"%roc_auc)\n",
    "plt.plot([0,1],[0,1], color = \"navy\", lw=lw, linestyle='--')\n",
    "plt.xlim([0.0, 1.0])\n",
    "plt.ylim([0.0, 1.05])\n",
    "plt.xlabel(\"False Positive Rate\")\n",
    "plt.ylabel(\"True Positive Rate\")\n",
    "plt.title(\"Receiver operating characteristic example\")\n",
    "plt.legend(loc=\"lower right\")\n",
    "plt.show()"
   ]
  },
  {
   "cell_type": "markdown",
   "metadata": {},
   "source": [
    "# multi-class classification"
   ]
  },
  {
   "cell_type": "code",
   "execution_count": 13,
   "metadata": {},
   "outputs": [],
   "source": [
    "num_class = len(np.unique(ytrm))\n",
    "n_features = Xtrm.shape[1]"
   ]
  },
  {
   "cell_type": "code",
   "execution_count": 14,
   "metadata": {},
   "outputs": [],
   "source": [
    "clf_mul = MultNN(n_features, n_hidden=32, num_class=num_class)"
   ]
  },
  {
   "cell_type": "code",
   "execution_count": 15,
   "metadata": {},
   "outputs": [],
   "source": [
    "epochs = 30\n",
    "criterion_mul = nn.CrossEntropyLoss()\n",
    "optim_mul = optim.Adam(clf_mul.parameters(),lr=0.0001)"
   ]
  },
  {
   "cell_type": "code",
   "execution_count": 15,
   "metadata": {},
   "outputs": [
    {
     "name": "stdout",
     "output_type": "stream",
     "text": [
      "\n",
      "Epoch [1/30]\tLoss 0.9481 (0.6403)\tPrec@1 train 78.771 (22.850)   \t\n",
      "\n",
      "Epoch [2/30]\tLoss 0.2315 (0.0762)\tPrec@1 train 93.746 (2.293)   \t\n",
      "\n",
      "Epoch [3/30]\tLoss 0.1207 (0.0479)\tPrec@1 train 97.358 (1.229)   \t\n",
      "\n",
      "Epoch [4/30]\tLoss 0.0716 (0.0309)\tPrec@1 train 98.618 (0.726)   \t\n",
      "\n",
      "Epoch [5/30]\tLoss 0.0487 (0.0221)\tPrec@1 train 98.890 (0.642)   \t\n",
      "\n",
      "Epoch [6/30]\tLoss 0.0365 (0.0168)\tPrec@1 train 99.111 (0.570)   \t\n",
      "\n",
      "Epoch [7/30]\tLoss 0.0296 (0.0145)\tPrec@1 train 99.197 (0.526)   \t\n",
      "\n",
      "Epoch [8/30]\tLoss 0.0250 (0.0132)\tPrec@1 train 99.258 (0.500)   \t\n",
      "\n",
      "Epoch [9/30]\tLoss 0.0215 (0.0127)\tPrec@1 train 99.320 (0.505)   \t\n",
      "\n",
      "Epoch [10/30]\tLoss 0.0188 (0.0111)\tPrec@1 train 99.353 (0.484)   \t\n",
      "\n",
      "Epoch [11/30]\tLoss 0.0166 (0.0106)\tPrec@1 train 99.386 (0.465)   \t\n",
      "\n",
      "Epoch [12/30]\tLoss 0.0147 (0.0098)\tPrec@1 train 99.576 (0.394)   \t\n",
      "\n",
      "Epoch [13/30]\tLoss 0.0132 (0.0096)\tPrec@1 train 99.618 (0.384)   \t\n",
      "\n",
      "Epoch [14/30]\tLoss 0.0120 (0.0092)\tPrec@1 train 99.631 (0.355)   \t\n",
      "\n",
      "Epoch [15/30]\tLoss 0.0109 (0.0089)\tPrec@1 train 99.654 (0.337)   \t\n",
      "\n",
      "Epoch [16/30]\tLoss 0.0101 (0.0090)\tPrec@1 train 99.668 (0.332)   \t\n",
      "\n",
      "Epoch [17/30]\tLoss 0.0094 (0.0086)\tPrec@1 train 99.690 (0.325)   \t\n",
      "\n",
      "Epoch [18/30]\tLoss 0.0088 (0.0086)\tPrec@1 train 99.741 (0.311)   \t\n",
      "\n",
      "Epoch [19/30]\tLoss 0.0083 (0.0084)\tPrec@1 train 99.794 (0.272)   \t\n",
      "\n",
      "Epoch [20/30]\tLoss 0.0078 (0.0080)\tPrec@1 train 99.841 (0.225)   \t\n",
      "\n",
      "Epoch [21/30]\tLoss 0.0075 (0.0085)\tPrec@1 train 99.857 (0.223)   \t\n",
      "\n",
      "Epoch [22/30]\tLoss 0.0071 (0.0083)\tPrec@1 train 99.868 (0.221)   \t\n",
      "\n",
      "Epoch [23/30]\tLoss 0.0068 (0.0078)\tPrec@1 train 99.872 (0.193)   \t\n",
      "\n",
      "Epoch [24/30]\tLoss 0.0065 (0.0077)\tPrec@1 train 99.879 (0.200)   \t\n",
      "\n",
      "Epoch [25/30]\tLoss 0.0062 (0.0077)\tPrec@1 train 99.882 (0.193)   \t\n",
      "\n",
      "Epoch [26/30]\tLoss 0.0060 (0.0076)\tPrec@1 train 99.886 (0.195)   \t\n",
      "\n",
      "Epoch [27/30]\tLoss 0.0058 (0.0075)\tPrec@1 train 99.888 (0.200)   \t\n",
      "\n",
      "Epoch [28/30]\tLoss 0.0056 (0.0075)\tPrec@1 train 99.889 (0.180)   \t\n",
      "\n",
      "Epoch [29/30]\tLoss 0.0054 (0.0076)\tPrec@1 train 99.890 (0.188)   \t\n",
      "\n",
      "Epoch [30/30]\tLoss 0.0052 (0.0074)\tPrec@1 train 99.891 (0.195)   \t\n"
     ]
    }
   ],
   "source": [
    "clf_mul = train_model(clf_mul, train_mulloader, optim_mul, device, criterion_mul, epochs, save_dir = result_dir, \n",
    "                     save_model = \"cicids17_mul_clf.pth\",binary=False)"
   ]
  },
  {
   "cell_type": "code",
   "execution_count": 16,
   "metadata": {},
   "outputs": [
    {
     "data": {
      "text/plain": [
       "(tensor(0.0055), tensor(99.8882), tensor(0.1901))"
      ]
     },
     "execution_count": 16,
     "metadata": {},
     "output_type": "execute_result"
    }
   ],
   "source": [
    "# torch.save(clf_mul.state_dict(),os.path.join(result_dir, \"cicids17_mul_clf.pth\"))\n",
    "clf_mul.load_state_dict(torch.load(os.path.join(result_dir, \"cicids17_mul_clf.pth\"),map_location='cpu'))\n",
    "test_model(clf_mul, test_mulloader, criterion_mul, device, 100.0, binary=False)"
   ]
  },
  {
   "cell_type": "markdown",
   "metadata": {},
   "source": [
    "# evaluate multi-class model"
   ]
  },
  {
   "cell_type": "code",
   "execution_count": 17,
   "metadata": {},
   "outputs": [],
   "source": [
    "from sklearn.metrics import confusion_matrix"
   ]
  },
  {
   "cell_type": "code",
   "execution_count": 18,
   "metadata": {},
   "outputs": [],
   "source": [
    "pred_m = torch.softmax(get_prediction(clf_mul, test_mulloader, device),dim=1).numpy()\n",
    "predy_m = np.argmax(pred_m,axis=-1)"
   ]
  },
  {
   "cell_type": "code",
   "execution_count": 19,
   "metadata": {},
   "outputs": [],
   "source": [
    "confusion_mtx = confusion_matrix(ytem, predy_m)"
   ]
  },
  {
   "cell_type": "code",
   "execution_count": 20,
   "metadata": {},
   "outputs": [
    {
     "data": {
      "image/png": "[encoded data removed]",
      "text/plain": [
       "<Figure size 432x288 with 2 Axes>"
      ]
     },
     "metadata": {
      "needs_background": "light"
     },
     "output_type": "display_data"
    }
   ],
   "source": [
    "plot_confusion_matrix(confusion_mtx, classes = range(10))"
   ]
  },
  {
   "cell_type": "code",
   "execution_count": 21,
   "metadata": {},
   "outputs": [
    {
     "data": {
      "image/png": "[encoded data removed]",
      "text/plain": [
       "<Figure size 432x288 with 1 Axes>"
      ]
     },
     "metadata": {
      "needs_background": "light"
     },
     "output_type": "display_data"
    }
   ],
   "source": [
    "plt.hist(np.max(pred_m,axis=1))\n",
    "plt.title(\"confidence for in-distribution data\")\n",
    "plt.show()"
   ]
  },
  {
   "cell_type": "code",
   "execution_count": 22,
   "metadata": {},
   "outputs": [
    {
     "data": {
      "image/png": "[encoded data removed]",
      "text/plain": [
       "<Figure size 432x288 with 1 Axes>"
      ]
     },
     "metadata": {
      "needs_background": "light"
     },
     "output_type": "display_data"
    }
   ],
   "source": [
    "plt.scatter(predy_m,np.max(pred_m,axis=1))\n",
    "plt.show()"
   ]
  },
  {
   "cell_type": "code",
   "execution_count": 23,
   "metadata": {},
   "outputs": [],
   "source": [
    "prob_ooc = torch.softmax(get_prediction(clf_mul, outlier_trloader, device), dim=1)\n",
    "pred_ooc = torch.argmax(prob_ooc, dim=1)"
   ]
  },
  {
   "cell_type": "code",
   "execution_count": 24,
   "metadata": {},
   "outputs": [
    {
     "name": "stdout",
     "output_type": "stream",
     "text": [
      "{'Web Attack \\x96 Brute Force': 0, 'Web Attack \\x96 XSS': 0, 'Web Attack \\x96 Sql Injection': 0, 'DDoS': 1, 'Bot': 2, 'DoS slowloris': 3, 'DoS Slowhttptest': 4, 'DoS Hulk': 5, 'DoS GoldenEye': 6, 'PortScan': 7, 'FTP-Patator': 8, 'SSH-Patator': 9}\n"
     ]
    }
   ],
   "source": [
    "lab_dic17, lab_name17 = cluster_labels_2017()"
   ]
  },
  {
   "cell_type": "code",
   "execution_count": 25,
   "metadata": {},
   "outputs": [
    {
     "data": {
      "image/png": "[encoded data removed]",
      "text/plain": [
       "<Figure size 432x288 with 1 Axes>"
      ]
     },
     "metadata": {
      "needs_background": "light"
     },
     "output_type": "display_data"
    }
   ],
   "source": [
    "plt.hist(pred_ooc.numpy())\n",
    "plt.title(\"Benign data prediction\")\n",
    "plt.xticks(range(10),lab_name17, rotation=90)\n",
    "plt.show()"
   ]
  },
  {
   "cell_type": "code",
   "execution_count": 26,
   "metadata": {},
   "outputs": [
    {
     "data": {
      "image/png": "[encoded data removed]",
      "text/plain": [
       "<Figure size 432x288 with 1 Axes>"
      ]
     },
     "metadata": {
      "needs_background": "light"
     },
     "output_type": "display_data"
    }
   ],
   "source": [
    "plt.hist(np.max(prob_ooc.numpy(),axis=1))\n",
    "plt.title(\"maximum prediction probability for ooc data\")\n",
    "plt.show()"
   ]
  },
  {
   "cell_type": "code",
   "execution_count": 27,
   "metadata": {},
   "outputs": [
    {
     "data": {
      "image/png": "[encoded data removed]",
      "text/plain": [
       "<Figure size 432x288 with 1 Axes>"
      ]
     },
     "metadata": {
      "needs_background": "light"
     },
     "output_type": "display_data"
    }
   ],
   "source": [
    "plt.scatter(pred_ooc,np.max(prob_ooc.numpy(),axis=1),)\n",
    "plt.show()"
   ]
  },
  {
   "cell_type": "code",
   "execution_count": null,
   "metadata": {},
   "outputs": [],
   "source": []
  }
 ],
 "metadata": {
  "kernelspec": {
   "display_name": "torch19",
   "language": "python",
   "name": "torch19"
  },
  "language_info": {
   "codemirror_mode": {
    "name": "ipython",
    "version": 3
   },
   "file_extension": ".py",
   "mimetype": "text/x-python",
   "name": "python",
   "nbconvert_exporter": "python",
   "pygments_lexer": "ipython3",
   "version": "3.9.5"
  }
 },
 "nbformat": 4,
 "nbformat_minor": 4
}
