{
 "cells": [
  {
   "cell_type": "code",
   "execution_count": 2,
   "metadata": {},
   "outputs": [],
   "source": [
    "import pandas as pd\n",
    "import os"
   ]
  },
  {
   "cell_type": "code",
   "execution_count": 3,
   "metadata": {},
   "outputs": [],
   "source": [
    "result_dir = '../results/ids-dataset'"
   ]
  },
  {
   "cell_type": "code",
   "execution_count": 4,
   "metadata": {},
   "outputs": [],
   "source": [
    "train_df = pd.read_parquet(os.path.join(result_dir,\"cicids2017_traindf.parquet\"))\n",
    "test_df = pd.read_parquet(os.path.join(result_dir,\"cicids2017_testdf.parquet\"))"
   ]
  },
  {
   "cell_type": "code",
   "execution_count": 5,
   "metadata": {},
   "outputs": [],
   "source": [
    "from utils import *"
   ]
  },
  {
   "cell_type": "code",
   "execution_count": 6,
   "metadata": {},
   "outputs": [],
   "source": [
    "train_df_bn = set_binary_label(train_df,label_col='Label', default_class='Benign',return_col=False)\n",
    "test_df_bn = set_binary_label(test_df,label_col='Label', default_class='Benign',return_col=False)"
   ]
  },
  {
   "cell_type": "code",
   "execution_count": 7,
   "metadata": {},
   "outputs": [
    {
     "name": "stdout",
     "output_type": "stream",
     "text": [
      "{'Web Attack \\x96 Brute Force': 0, 'Web Attack \\x96 XSS': 0, 'Web Attack \\x96 Sql Injection': 0, 'DDoS': 1, 'Bot': 2, 'DoS slowloris': 3, 'DoS Slowhttptest': 4, 'DoS Hulk': 5, 'DoS GoldenEye': 6, 'PortScan': 7, 'FTP-Patator': 8, 'SSH-Patator': 9}\n"
     ]
    }
   ],
   "source": [
    "lab_dic, lab_name = cluster_labels_2017()"
   ]
  },
  {
   "cell_type": "code",
   "execution_count": 8,
   "metadata": {},
   "outputs": [
    {
     "name": "stdout",
     "output_type": "stream",
     "text": [
      "drop Benign\n",
      "drop Infiltration\n",
      "drop Heartbleed\n",
      "original instances:  1040360\n",
      "drop intances:  751106\n",
      "after drop:  289254\n",
      "drop Benign\n",
      "drop Infiltration\n",
      "drop Heartbleed\n",
      "original instances:  260090\n",
      "drop intances:  187670\n",
      "after drop:  72420\n"
     ]
    }
   ],
   "source": [
    "train_mul= set_multiple_label(train_df,label_col='Label', label_dic = lab_dic, return_col=False)\n",
    "test_mul = set_multiple_label(test_df,label_col='Label', label_dic = lab_dic, return_col=False)"
   ]
  },
  {
   "cell_type": "markdown",
   "metadata": {},
   "source": [
    "# binary classification"
   ]
  },
  {
   "cell_type": "code",
   "execution_count": 1,
   "metadata": {},
   "outputs": [
    {
     "name": "stderr",
     "output_type": "stream",
     "text": [
      "2022-06-01 12:32:46.319498: I tensorflow/core/util/util.cc:169] oneDNN custom operations are on. You may see slightly different numerical results due to floating-point round-off errors from different computation orders. To turn them off, set the environment variable `TF_ENABLE_ONEDNN_OPTS=0`.\n"
     ]
    }
   ],
   "source": [
    "from tensorflow import keras"
   ]
  },
  {
   "cell_type": "code",
   "execution_count": 9,
   "metadata": {},
   "outputs": [],
   "source": [
    "from sklearn.preprocessing import StandardScaler"
   ]
  },
  {
   "cell_type": "code",
   "execution_count": 10,
   "metadata": {},
   "outputs": [],
   "source": [
    "st_scaler_bn = StandardScaler()"
   ]
  },
  {
   "cell_type": "code",
   "execution_count": 11,
   "metadata": {},
   "outputs": [],
   "source": [
    "trainx = train_df_bn.loc[:,train_df.columns!='Label']\n",
    "trainy = train_df_bn['Label']\n",
    "testx = test_df_bn.loc[:,test_df.columns!='Label']\n",
    "testy = test_df_bn['Label']"
   ]
  },
  {
   "cell_type": "code",
   "execution_count": 14,
   "metadata": {},
   "outputs": [
    {
     "data": {
      "text/plain": [
       "(1040360, 67)"
      ]
     },
     "execution_count": 14,
     "metadata": {},
     "output_type": "execute_result"
    }
   ],
   "source": [
    "trainx.shape"
   ]
  },
  {
   "cell_type": "code",
   "execution_count": 12,
   "metadata": {},
   "outputs": [],
   "source": [
    "trainx_st = st_scaler_bn.fit_transform(trainx)\n",
    "testx_st = st_scaler_bn.transform(testx)"
   ]
  },
  {
   "cell_type": "markdown",
   "metadata": {},
   "source": [
    "# Train DNN model for Binary Classification"
   ]
  },
  {
   "cell_type": "code",
   "execution_count": 23,
   "metadata": {},
   "outputs": [],
   "source": [
    "from keras.models import Sequential \n",
    "from keras.layers import Dense, Activation"
   ]
  },
  {
   "cell_type": "code",
   "execution_count": 24,
   "metadata": {},
   "outputs": [],
   "source": [
    "clf_bn = Sequential([\n",
    "    Dense(32, input_shape =(67,) ,activation=\"relu\"),\n",
    "    Dense(1, activation='sigmoid')\n",
    "])"
   ]
  },
  {
   "cell_type": "code",
   "execution_count": 26,
   "metadata": {},
   "outputs": [
    {
     "name": "stdout",
     "output_type": "stream",
     "text": [
      "Epoch 1/20\n",
      "4064/4064 [==============================] - 23s 6ms/step - loss: 0.0862 - accuracy: 0.9627\n",
      "Epoch 2/20\n",
      "4064/4064 [==============================] - 22s 6ms/step - loss: 0.0726 - accuracy: 0.9750\n",
      "Epoch 3/20\n",
      "4064/4064 [==============================] - 23s 6ms/step - loss: 0.0692 - accuracy: 0.9799\n",
      "Epoch 4/20\n",
      "4064/4064 [==============================] - 22s 5ms/step - loss: 0.0674 - accuracy: 0.9841\n",
      "Epoch 5/20\n",
      "4064/4064 [==============================] - 22s 5ms/step - loss: 0.0646 - accuracy: 0.9893\n",
      "Epoch 6/20\n",
      "4064/4064 [==============================] - 22s 5ms/step - loss: 0.0614 - accuracy: 0.9914\n",
      "Epoch 7/20\n",
      "4064/4064 [==============================] - 22s 5ms/step - loss: 0.0580 - accuracy: 0.9924\n",
      "Epoch 8/20\n",
      "4064/4064 [==============================] - 23s 6ms/step - loss: 0.0509 - accuracy: 0.9933\n",
      "Epoch 12/20\n",
      "4064/4064 [==============================] - 23s 6ms/step - loss: 0.0496 - accuracy: 0.9934\n",
      "Epoch 13/20\n",
      "4064/4064 [==============================] - 23s 6ms/step - loss: 0.0486 - accuracy: 0.9934\n",
      "Epoch 14/20\n",
      "4064/4064 [==============================] - 23s 6ms/step - loss: 0.0479 - accuracy: 0.9936\n",
      "Epoch 15/20\n",
      "4064/4064 [==============================] - 23s 6ms/step - loss: 0.0475 - accuracy: 0.9935\n",
      "Epoch 16/20\n",
      "4064/4064 [==============================] - 23s 6ms/step - loss: 0.0472 - accuracy: 0.9936\n",
      "Epoch 17/20\n",
      "4064/4064 [==============================] - 23s 6ms/step - loss: 0.0468 - accuracy: 0.9936\n",
      "Epoch 18/20\n",
      "2291/4064 [===============>..............] - ETA: 9s - loss: 0.0404 - accuracy: 0.9937"
     ]
    },
    {
     "name": "stderr",
     "output_type": "stream",
     "text": [
      "IOPub message rate exceeded.\n",
      "The notebook server will temporarily stop sending output\n",
      "to the client in order to avoid crashing it.\n",
      "To change this limit, set the config variable\n",
      "`--NotebookApp.iopub_msg_rate_limit`.\n",
      "\n",
      "Current values:\n",
      "NotebookApp.iopub_msg_rate_limit=1000.0 (msgs/sec)\n",
      "NotebookApp.rate_limit_window=3.0 (secs)\n",
      "\n"
     ]
    }
   ],
   "source": [
    "clf_bn.compile(optimizer=\"rmsprop\", loss='binary_crossentropy', metrics=['accuracy'])\n",
    "clf_bn.fit(trainx_st,trainy,epochs=20, batch_size=256)"
   ]
  },
  {
   "cell_type": "code",
   "execution_count": 27,
   "metadata": {},
   "outputs": [
    {
     "name": "stdout",
     "output_type": "stream",
     "text": [
      "1016/1016 [==============================] - 4s 4ms/step - loss: 0.0824 - accuracy: 0.9934\n",
      "[0.08239506185054779, 0.9934407472610474]\n"
     ]
    }
   ],
   "source": [
    "score = clf_bn.evaluate(testx_st,testy, batch_size=256)\n",
    "print(score)"
   ]
  },
  {
   "cell_type": "markdown",
   "metadata": {},
   "source": [
    "## model save"
   ]
  },
  {
   "cell_type": "code",
   "execution_count": 78,
   "metadata": {},
   "outputs": [
    {
     "name": "stdout",
     "output_type": "stream",
     "text": [
      "INFO:tensorflow:Assets written to: ../results/ids-dataset/cicids2017_nn_binary/assets\n"
     ]
    }
   ],
   "source": [
    "clf_bn.save(os.path.join(result_dir,\"cicids2017_nn_binary\"))"
   ]
  },
  {
   "cell_type": "code",
   "execution_count": 29,
   "metadata": {},
   "outputs": [],
   "source": [
    "# lr_clf.score(testx_st, testy)\n",
    "# 0.9547964166250145"
   ]
  },
  {
   "cell_type": "code",
   "execution_count": 32,
   "metadata": {},
   "outputs": [
    {
     "data": {
      "text/plain": [
       "array([[4.0944651e-06],\n",
       "       [1.0000000e+00],\n",
       "       [3.0096697e-02],\n",
       "       ...,\n",
       "       [8.2442765e-24],\n",
       "       [1.0000000e+00],\n",
       "       [2.5382647e-37]], dtype=float32)"
      ]
     },
     "execution_count": 32,
     "metadata": {},
     "output_type": "execute_result"
    }
   ],
   "source": [
    "predy.numpy()"
   ]
  },
  {
   "cell_type": "code",
   "execution_count": 33,
   "metadata": {},
   "outputs": [],
   "source": [
    "from sklearn.metrics import roc_curve, auc\n",
    "\n",
    "predy = clf_bn(testx_st).numpy()\n",
    "pos_label = 1 # 1 or 0\n",
    "fpr, tpr, thresholds = roc_curve(testy.values, predy, pos_label=pos_label)\n",
    "roc_auc = auc(fpr, tpr)"
   ]
  },
  {
   "cell_type": "code",
   "execution_count": 34,
   "metadata": {},
   "outputs": [
    {
     "data": {
      "image/png": "[encoded data removed]",
      "text/plain": [
       "<Figure size 432x288 with 1 Axes>"
      ]
     },
     "metadata": {
      "needs_background": "light"
     },
     "output_type": "display_data"
    }
   ],
   "source": [
    "import matplotlib.pyplot as plt\n",
    "\n",
    "lw=2\n",
    "plt.figure()\n",
    "plt.plot(fpr, tpr, color=\"darkorange\", lw=lw, label =\"ROC curve (area= %.2f)\"%roc_auc)\n",
    "plt.plot([0,1],[0,1], color = \"navy\", lw=lw, linestyle='--')\n",
    "plt.xlim([0.0, 1.0])\n",
    "plt.ylim([0.0, 1.05])\n",
    "plt.xlabel(\"False Positive Rate\")\n",
    "plt.ylabel(\"True Positive Rate\")\n",
    "plt.title(\"Receiver operating characteristic example\")\n",
    "plt.legend(loc=\"lower right\")\n",
    "plt.show()"
   ]
  },
  {
   "cell_type": "markdown",
   "metadata": {},
   "source": [
    "# multi-class classification"
   ]
  },
  {
   "cell_type": "code",
   "execution_count": 35,
   "metadata": {},
   "outputs": [
    {
     "data": {
      "image/png": "[encoded data removed]",
      "text/plain": [
       "<Figure size 432x288 with 1 Axes>"
      ]
     },
     "metadata": {
      "needs_background": "light"
     },
     "output_type": "display_data"
    },
    {
     "data": {
      "image/png": "[encoded data removed]",
      "text/plain": [
       "<Figure size 432x288 with 1 Axes>"
      ]
     },
     "metadata": {
      "needs_background": "light"
     },
     "output_type": "display_data"
    }
   ],
   "source": [
    "train_mul['Label'].value_counts().plot(kind='bar')\n",
    "plt.show()\n",
    "test_mul['Label'].value_counts().plot(kind='bar')\n",
    "plt.show()"
   ]
  },
  {
   "cell_type": "code",
   "execution_count": 36,
   "metadata": {},
   "outputs": [],
   "source": [
    "trainx_m = train_mul.loc[:,train_mul.columns!='Label']\n",
    "trainy_m = train_mul['Label']\n",
    "testx_m = test_mul.loc[:,test_mul.columns!='Label']\n",
    "testy_m = test_mul['Label']"
   ]
  },
  {
   "cell_type": "code",
   "execution_count": 39,
   "metadata": {},
   "outputs": [],
   "source": [
    "num_class = len(np.unique(testy_m))"
   ]
  },
  {
   "cell_type": "code",
   "execution_count": 37,
   "metadata": {},
   "outputs": [],
   "source": [
    "st_scaler_mul = StandardScaler()"
   ]
  },
  {
   "cell_type": "code",
   "execution_count": 38,
   "metadata": {},
   "outputs": [],
   "source": [
    "trainx_m_st = st_scaler_mul.fit_transform(trainx_m)\n",
    "testx_m_st = st_scaler_mul.transform(testx_m)"
   ]
  },
  {
   "cell_type": "code",
   "execution_count": 42,
   "metadata": {},
   "outputs": [],
   "source": [
    "from keras.utils import to_categorical"
   ]
  },
  {
   "cell_type": "code",
   "execution_count": 43,
   "metadata": {},
   "outputs": [],
   "source": [
    "trainy_mc = to_categorical(trainy_m)\n",
    "testy_mc = to_categorical(testy_m)"
   ]
  },
  {
   "cell_type": "code",
   "execution_count": 44,
   "metadata": {},
   "outputs": [],
   "source": [
    "clf_mul = Sequential([\n",
    "    Dense(32, input_shape =(67,) ,activation=\"relu\"),\n",
    "    Dense(num_class, activation='softmax')\n",
    "])"
   ]
  },
  {
   "cell_type": "code",
   "execution_count": 45,
   "metadata": {},
   "outputs": [
    {
     "name": "stdout",
     "output_type": "stream",
     "text": [
      "Epoch 1/20\n",
      "1130/1130 [==============================] - 6s 5ms/step - loss: 0.0997 - accuracy: 0.9801\n",
      "Epoch 2/20\n",
      "1130/1130 [==============================] - 6s 5ms/step - loss: 0.0124 - accuracy: 0.9972\n",
      "Epoch 3/20\n",
      "1130/1130 [==============================] - 6s 5ms/step - loss: 0.0091 - accuracy: 0.9984\n",
      "Epoch 4/20\n",
      "1130/1130 [==============================] - 5s 5ms/step - loss: 0.0078 - accuracy: 0.9987\n",
      "Epoch 5/20\n",
      "1130/1130 [==============================] - 6s 5ms/step - loss: 0.0071 - accuracy: 0.9987\n",
      "Epoch 6/20\n",
      "1130/1130 [==============================] - 6s 5ms/step - loss: 0.0064 - accuracy: 0.9989\n",
      "Epoch 7/20\n",
      "1130/1130 [==============================] - 6s 5ms/step - loss: 0.0064 - accuracy: 0.9989\n",
      "Epoch 8/20\n",
      "1130/1130 [==============================] - 6s 5ms/step - loss: 0.0062 - accuracy: 0.9990\n",
      "Epoch 9/20\n",
      "1130/1130 [==============================] - 6s 5ms/step - loss: 0.0062 - accuracy: 0.9991\n",
      "Epoch 10/20\n",
      "1130/1130 [==============================] - 6s 5ms/step - loss: 0.0060 - accuracy: 0.9991\n",
      "Epoch 11/20\n",
      "1130/1130 [==============================] - 6s 5ms/step - loss: 0.0060 - accuracy: 0.9991\n",
      "Epoch 12/20\n",
      "1130/1130 [==============================] - 6s 5ms/step - loss: 0.0060 - accuracy: 0.9992\n",
      "Epoch 13/20\n",
      "1130/1130 [==============================] - 6s 5ms/step - loss: 0.0059 - accuracy: 0.9991\n",
      "Epoch 14/20\n",
      "1130/1130 [==============================] - 6s 5ms/step - loss: 0.0062 - accuracy: 0.9992\n",
      "Epoch 15/20\n",
      "1130/1130 [==============================] - 6s 5ms/step - loss: 0.0062 - accuracy: 0.9992\n",
      "Epoch 16/20\n",
      "1130/1130 [==============================] - 6s 5ms/step - loss: 0.0061 - accuracy: 0.9992\n",
      "Epoch 17/20\n",
      "1130/1130 [==============================] - 6s 5ms/step - loss: 0.0063 - accuracy: 0.9992\n",
      "Epoch 18/20\n",
      "1130/1130 [==============================] - 6s 5ms/step - loss: 0.0062 - accuracy: 0.9992\n",
      "Epoch 19/20\n",
      "1130/1130 [==============================] - 6s 5ms/step - loss: 0.0063 - accuracy: 0.9992\n",
      "Epoch 20/20\n",
      "1130/1130 [==============================] - 6s 5ms/step - loss: 0.0061 - accuracy: 0.9992\n"
     ]
    },
    {
     "data": {
      "text/plain": [
       "<keras.callbacks.History at 0x7fa0cc4c4be0>"
      ]
     },
     "execution_count": 45,
     "metadata": {},
     "output_type": "execute_result"
    }
   ],
   "source": [
    "clf_mul.compile(optimizer=\"rmsprop\", loss='categorical_crossentropy', metrics=['accuracy'])\n",
    "clf_mul.fit(trainx_m_st,trainy_mc,epochs=20, batch_size=256)"
   ]
  },
  {
   "cell_type": "code",
   "execution_count": 46,
   "metadata": {},
   "outputs": [
    {
     "name": "stdout",
     "output_type": "stream",
     "text": [
      "283/283 [==============================] - 1s 4ms/step - loss: 0.0080 - accuracy: 0.9991\n",
      "[0.007965688593685627, 0.9991300702095032]\n"
     ]
    }
   ],
   "source": [
    "score_m = clf_mul.evaluate(testx_m_st,testy_mc, batch_size=256)\n",
    "print(score_m)"
   ]
  },
  {
   "cell_type": "markdown",
   "metadata": {},
   "source": [
    "## model save"
   ]
  },
  {
   "cell_type": "code",
   "execution_count": 79,
   "metadata": {},
   "outputs": [
    {
     "name": "stdout",
     "output_type": "stream",
     "text": [
      "INFO:tensorflow:Assets written to: ../results/ids-dataset/cicids2017_nn_mult/assets\n"
     ]
    }
   ],
   "source": [
    "clf_mul.save(os.path.join(result_dir,\"cicids2017_nn_mult\"))"
   ]
  },
  {
   "cell_type": "code",
   "execution_count": 47,
   "metadata": {},
   "outputs": [
    {
     "name": "stdout",
     "output_type": "stream",
     "text": [
      "2264/2264 [==============================] - 2s 786us/step\n"
     ]
    },
    {
     "data": {
      "text/plain": [
       "array([[1.25529739e-20, 1.33731443e-10, 3.17639430e-37, ...,\n",
       "        0.00000000e+00, 0.00000000e+00, 0.00000000e+00],\n",
       "       [1.27417985e-21, 9.16151048e-16, 1.95654193e-34, ...,\n",
       "        0.00000000e+00, 0.00000000e+00, 0.00000000e+00],\n",
       "       [2.94646599e-11, 9.60154197e-17, 6.31389385e-11, ...,\n",
       "        1.00000000e+00, 1.28442679e-08, 4.32760672e-09],\n",
       "       ...,\n",
       "       [6.34147310e-15, 7.24045503e-06, 4.58907259e-08, ...,\n",
       "        9.99992728e-01, 2.44009279e-09, 1.64337688e-09],\n",
       "       [1.35369782e-14, 3.83661489e-17, 3.13073097e-18, ...,\n",
       "        3.09970383e-10, 9.99998331e-01, 1.69053726e-06],\n",
       "       [4.21196937e-24, 1.00000000e+00, 1.68402506e-30, ...,\n",
       "        0.00000000e+00, 0.00000000e+00, 1.09677095e-35]], dtype=float32)"
      ]
     },
     "execution_count": 47,
     "metadata": {},
     "output_type": "execute_result"
    }
   ],
   "source": [
    "clf_mul.predict(testx_m_st)"
   ]
  },
  {
   "cell_type": "code",
   "execution_count": 73,
   "metadata": {},
   "outputs": [],
   "source": [
    "def apply_nn_clf_with_scaler(clf, scaler, df_x, prob=True):\n",
    "    df_x_st = scaler.transform(df_x)\n",
    "    preds = clf.predict(df_x_st)\n",
    "    if prob:\n",
    "        return preds\n",
    "    else:        \n",
    "        if preds.shape[1]==1:\n",
    "            return np.argmax(preds>0.5).astype(\"int32\")\n",
    "        else:\n",
    "            return np.argmax(preds, axis=-1)\n",
    "def score_nn_clf_with_scaler(clf, scaler, df_x, df_y, binary=True):\n",
    "    df_x_st = scaler.transform(df_x)\n",
    "    if binary:\n",
    "        y = df_y.values\n",
    "    else:\n",
    "        y = to_categorical(df_y.values)\n",
    "    score = clf.evaluate(df_x_st.values,y, batch_size=256)\n",
    "    return score"
   ]
  },
  {
   "cell_type": "markdown",
   "metadata": {},
   "source": [
    "# evaluate multi-class model"
   ]
  },
  {
   "cell_type": "code",
   "execution_count": 50,
   "metadata": {},
   "outputs": [],
   "source": [
    "from sklearn.metrics import confusion_matrix"
   ]
  },
  {
   "cell_type": "code",
   "execution_count": 53,
   "metadata": {},
   "outputs": [
    {
     "name": "stdout",
     "output_type": "stream",
     "text": [
      "2264/2264 [==============================] - 6s 3ms/step\n"
     ]
    }
   ],
   "source": [
    "pred_m = clf_mul.predict(testx_m_st)\n",
    "predy_m = np.argmax(pred_m,axis=-1)"
   ]
  },
  {
   "cell_type": "code",
   "execution_count": 63,
   "metadata": {},
   "outputs": [],
   "source": [
    "import itertools\n",
    "def plot_confusion_matrix(cm, classes, normalize=False, title='Confusion matrix', cmap=plt.cm.Blues):\n",
    "    \"\"\"\n",
    "    This function prints and plots the confusion matrix.\n",
    "    Normalization can be applied by setting 'normalize=True'.\n",
    "    \"\"\"\n",
    "    plt.imshow(cm, interpolation='nearest', cmap=cmap)\n",
    "    plt.title(title)\n",
    "    plt.colorbar()\n",
    "    tick_marks=np.arange(len(classes))\n",
    "    plt.xticks(tick_marks, classes, rotation=45)\n",
    "    plt.yticks(tick_marks, classes)\n",
    "    \n",
    "    if normalize:\n",
    "        cm = cm.astype('float') / cm.sum(axis=1)[:, np.newaxis]\n",
    "        \n",
    "    thresh = cm.max() / 2.\n",
    "    for i, j in itertools.product(range(cm.shape[0]), range(cm.shape[1])):\n",
    "        plt.text(j, i, cm[i, j], horizontalalignment=\"center\", color=\"white\" if cm[i, j] > thresh else \"black\")\n",
    "    \n",
    "    plt.tight_layout()\n",
    "    plt.ylabel('True label')\n",
    "    plt.xlabel('Predicted label')"
   ]
  },
  {
   "cell_type": "code",
   "execution_count": 64,
   "metadata": {},
   "outputs": [],
   "source": [
    "confusion_mtx = confusion_matrix(testy_m, predy_m)"
   ]
  },
  {
   "cell_type": "code",
   "execution_count": 65,
   "metadata": {},
   "outputs": [
    {
     "data": {
      "image/png": "[encoded data removed]",
      "text/plain": [
       "<Figure size 432x288 with 2 Axes>"
      ]
     },
     "metadata": {
      "needs_background": "light"
     },
     "output_type": "display_data"
    }
   ],
   "source": [
    "plot_confusion_matrix(confusion_mtx, classes = range(10))"
   ]
  },
  {
   "cell_type": "code",
   "execution_count": 67,
   "metadata": {},
   "outputs": [
    {
     "data": {
      "image/png": "[encoded data removed]",
      "text/plain": [
       "<Figure size 432x288 with 1 Axes>"
      ]
     },
     "metadata": {
      "needs_background": "light"
     },
     "output_type": "display_data"
    }
   ],
   "source": [
    "plt.hist(np.max(pred_m,axis=1))\n",
    "plt.title(\"confidence for in-distribution data\")\n",
    "plt.show()"
   ]
  },
  {
   "cell_type": "code",
   "execution_count": 69,
   "metadata": {},
   "outputs": [
    {
     "data": {
      "image/png": "[encoded data removed]",
      "text/plain": [
       "<Figure size 432x288 with 1 Axes>"
      ]
     },
     "metadata": {
      "needs_background": "light"
     },
     "output_type": "display_data"
    }
   ],
   "source": [
    "plt.scatter(predy_m,np.max(pred_m,axis=1))\n",
    "plt.show()"
   ]
  },
  {
   "cell_type": "code",
   "execution_count": 70,
   "metadata": {},
   "outputs": [],
   "source": [
    "ooc_col = 'SSH-Patator' # 'SSH-Patator', 'Heartbleed', 'Benign', 'Infiltration'\n",
    "ooc_idx = (train_df['Label']==ooc_col)\n",
    "train_ooc = train_df.loc[ooc_idx]\n",
    "train_ooc = train_ooc.loc[:,train_ooc.columns!='Label']"
   ]
  },
  {
   "cell_type": "code",
   "execution_count": 33,
   "metadata": {},
   "outputs": [
    {
     "data": {
      "text/plain": [
       "(2597, 67)"
      ]
     },
     "execution_count": 33,
     "metadata": {},
     "output_type": "execute_result"
    }
   ],
   "source": [
    "train_ooc.shape"
   ]
  },
  {
   "cell_type": "code",
   "execution_count": 74,
   "metadata": {},
   "outputs": [
    {
     "name": "stdout",
     "output_type": "stream",
     "text": [
      "82/82 [==============================] - 0s 3ms/step\n",
      "82/82 [==============================] - 0s 1ms/step\n"
     ]
    }
   ],
   "source": [
    "pred_ooc = apply_nn_clf_with_scaler(clf_mul, st_scaler_mul, train_ooc, prob = False)\n",
    "prob_ooc = apply_nn_clf_with_scaler(clf_mul, st_scaler_mul, train_ooc, prob = True)"
   ]
  },
  {
   "cell_type": "code",
   "execution_count": 75,
   "metadata": {},
   "outputs": [
    {
     "data": {
      "image/png": "[encoded data removed]",
      "text/plain": [
       "<Figure size 432x288 with 1 Axes>"
      ]
     },
     "metadata": {
      "needs_background": "light"
     },
     "output_type": "display_data"
    }
   ],
   "source": [
    "plt.hist(pred_ooc)\n",
    "plt.show()"
   ]
  },
  {
   "cell_type": "code",
   "execution_count": 76,
   "metadata": {},
   "outputs": [
    {
     "data": {
      "image/png": "[encoded data removed]",
      "text/plain": [
       "<Figure size 432x288 with 1 Axes>"
      ]
     },
     "metadata": {
      "needs_background": "light"
     },
     "output_type": "display_data"
    }
   ],
   "source": [
    "plt.hist(np.max(prob_ooc,axis=1))\n",
    "plt.title(\"maximum prediction probability for ooc data\")\n",
    "plt.show()"
   ]
  },
  {
   "cell_type": "code",
   "execution_count": 77,
   "metadata": {},
   "outputs": [
    {
     "data": {
      "image/png": "[encoded data removed]",
      "text/plain": [
       "<Figure size 432x288 with 1 Axes>"
      ]
     },
     "metadata": {
      "needs_background": "light"
     },
     "output_type": "display_data"
    }
   ],
   "source": [
    "plt.scatter(pred_ooc,np.max(prob_ooc,axis=1),)\n",
    "plt.show()"
   ]
  },
  {
   "cell_type": "code",
   "execution_count": null,
   "metadata": {},
   "outputs": [],
   "source": []
  }
 ],
 "metadata": {
  "kernelspec": {
   "display_name": "osrnn",
   "language": "python",
   "name": "osrnn"
  },
  "language_info": {
   "codemirror_mode": {
    "name": "ipython",
    "version": 3
   },
   "file_extension": ".py",
   "mimetype": "text/x-python",
   "name": "python",
   "nbconvert_exporter": "python",
   "pygments_lexer": "ipython3",
   "version": "3.8.0"
  }
 },
 "nbformat": 4,
 "nbformat_minor": 4
}
