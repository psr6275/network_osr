{
 "cells": [
  {
   "cell_type": "code",
   "execution_count": 1,
   "metadata": {},
   "outputs": [],
   "source": [
    "import numpy as np\n",
    "import os\n",
    "import pickle\n",
    "import torch\n",
    "import torch.nn as nn\n",
    "import torch.optim as optim\n",
    "\n",
    "from torch.utils.data import TensorDataset\n",
    "from torch.utils.data import DataLoader\n",
    "\n",
    "from sklearn.preprocessing import StandardScaler\n",
    "import pandas as pd\n",
    "\n",
    "from utils import *"
   ]
  },
  {
   "cell_type": "code",
   "execution_count": 2,
   "metadata": {},
   "outputs": [],
   "source": [
    "device = torch.device('cuda:0')"
   ]
  },
  {
   "cell_type": "code",
   "execution_count": 3,
   "metadata": {},
   "outputs": [],
   "source": [
    "result_dir = '../results/ids-dataset'\n",
    "batch_size = 256"
   ]
  },
  {
   "cell_type": "code",
   "execution_count": 4,
   "metadata": {},
   "outputs": [
    {
     "name": "stderr",
     "output_type": "stream",
     "text": [
      "/home/saerom/.pyenv/versions/pytorch111/lib/python3.8/site-packages/sklearn/base.py:329: UserWarning: Trying to unpickle estimator StandardScaler from version 1.0.2 when using version 1.1.1. This might lead to breaking code or invalid results. Use at your own risk. For more info please refer to:\n",
      "https://scikit-learn.org/stable/model_persistence.html#security-maintainability-limitations\n",
      "  warnings.warn(\n"
     ]
    }
   ],
   "source": [
    "Xtr_, ytr, Xte_,yte,st_scaler_bn = load_cicids_data(dataname=\"2018\",prob_type=\"binary\",\n",
    "                                                  result_dir = result_dir, return_scaler =True)"
   ]
  },
  {
   "cell_type": "code",
   "execution_count": 5,
   "metadata": {},
   "outputs": [],
   "source": [
    "Xtr = st_scaler_bn.transform(Xtr_)\n",
    "Xte = st_scaler_bn.transform(Xte_)\n",
    "train_bnloader = make_dataloader(Xtr,ytr, batch_size = batch_size, shuffle=True)\n",
    "test_bnloader = make_dataloader(Xte,yte, batch_size = batch_size, shuffle=False)"
   ]
  },
  {
   "cell_type": "code",
   "execution_count": 6,
   "metadata": {},
   "outputs": [
    {
     "name": "stdout",
     "output_type": "stream",
     "text": [
      "{'Brute Force -Web': 0, 'Brute Force -XSS': 0, 'SQL Injection': 0, 'DoS attacks-Hulk': 1, 'DoS attacks-GoldenEye': 2, 'DoS attacks-Slowloris': 3, 'Bot': 4, 'DDoS attacks-LOIC-HTTP': 5, 'DDOS attack-HOIC': 6, 'Infilteration': 7, 'FTP-BruteForce': 8, 'SSH-Bruteforce': 9}\n",
      "drop Benign\n",
      "drop DoS attacks-SlowHTTPTest\n",
      "original instances:  5971201\n",
      "drop intances:  5310540\n",
      "after drop:  660661\n",
      "drop Benign\n",
      "drop DoS attacks-SlowHTTPTest\n",
      "original instances:  1492801\n",
      "drop intances:  1327411\n",
      "after drop:  165390\n"
     ]
    },
    {
     "name": "stderr",
     "output_type": "stream",
     "text": [
      "/home/saerom/.pyenv/versions/pytorch111/lib/python3.8/site-packages/sklearn/base.py:329: UserWarning: Trying to unpickle estimator StandardScaler from version 1.0.2 when using version 1.1.1. This might lead to breaking code or invalid results. Use at your own risk. For more info please refer to:\n",
      "https://scikit-learn.org/stable/model_persistence.html#security-maintainability-limitations\n",
      "  warnings.warn(\n"
     ]
    }
   ],
   "source": [
    "Xtrm_, ytrm, Xtem_,ytem,st_scaler_mul = load_cicids_data(dataname=\"2018\",prob_type=\"mult\",\n",
    "                                                         result_dir = result_dir, return_scaler =True)"
   ]
  },
  {
   "cell_type": "code",
   "execution_count": 7,
   "metadata": {},
   "outputs": [],
   "source": [
    "Xtrm = st_scaler_mul.transform(Xtrm_)\n",
    "Xtem = st_scaler_mul.transform(Xtem_)\n",
    "train_mulloader = make_dataloader(Xtrm,ytrm.to_numpy().flatten(), batch_size = batch_size, shuffle=True)\n",
    "test_mulloader = make_dataloader(Xtem,ytem.to_numpy().flatten(), batch_size = batch_size, shuffle=False)"
   ]
  },
  {
   "cell_type": "markdown",
   "metadata": {},
   "source": [
    "## 수정 필요! scaling 을 multi-classification 에 맞추어야 함!"
   ]
  },
  {
   "cell_type": "code",
   "execution_count": 8,
   "metadata": {},
   "outputs": [],
   "source": [
    "Xbtr = st_scaler_mul.transform(Xtr_[ytr==0])\n",
    "Xbte = st_scaler_mul.transform(Xte_[yte==0])\n",
    "outlier_trloader = make_dataloader(Xbtr,np.zeros(len(Xbtr)),batch_size=batch_size, shuffle=True)\n",
    "outlier_teloader = make_dataloader(Xbte,np.zeros(len(Xbte)),batch_size=batch_size, shuffle=True)"
   ]
  },
  {
   "cell_type": "code",
   "execution_count": 9,
   "metadata": {},
   "outputs": [
    {
     "name": "stdout",
     "output_type": "stream",
     "text": [
      "{'Brute Force -Web': 0, 'Brute Force -XSS': 0, 'SQL Injection': 0, 'DoS attacks-Hulk': 1, 'DoS attacks-GoldenEye': 2, 'DoS attacks-Slowloris': 3, 'Bot': 4, 'DDoS attacks-LOIC-HTTP': 5, 'DDOS attack-HOIC': 6, 'Infilteration': 7, 'FTP-BruteForce': 8, 'SSH-Bruteforce': 9}\n"
     ]
    }
   ],
   "source": [
    "lab_dic, lab_name = cluster_labels_2018()"
   ]
  },
  {
   "cell_type": "markdown",
   "metadata": {},
   "source": [
    "# binary classification"
   ]
  },
  {
   "cell_type": "code",
   "execution_count": 10,
   "metadata": {},
   "outputs": [],
   "source": [
    "n_features = Xtr.shape[1]\n",
    "clf_bn = BinaryNN(n_features)"
   ]
  },
  {
   "cell_type": "code",
   "execution_count": 11,
   "metadata": {},
   "outputs": [],
   "source": [
    "epochs = 30\n",
    "criterion_bn = nn.BCELoss()\n",
    "optim_bn = optim.Adam(clf_bn.parameters(),lr=0.0001)"
   ]
  },
  {
   "cell_type": "code",
   "execution_count": 12,
   "metadata": {},
   "outputs": [
    {
     "name": "stdout",
     "output_type": "stream",
     "text": [
      "\n",
      "Epoch [1/30]\tLoss 0.0869 (0.0842)\tPrec@1 train 98.099 (3.432)   \t\n",
      "\n",
      "Epoch [2/30]\tLoss 0.0515 (0.0293)\tPrec@1 train 98.848 (nan)   \t\n",
      "\n",
      "Epoch [3/30]\tLoss 0.0480 (0.0269)\tPrec@1 train 98.910 (nan)   \t\n",
      "\n",
      "Epoch [4/30]\tLoss 0.0465 (0.0261)\tPrec@1 train 98.926 (nan)   \t\n",
      "\n",
      "Epoch [5/30]\tLoss 0.0456 (0.0256)\tPrec@1 train 98.933 (nan)   \t\n",
      "\n",
      "Epoch [6/30]\tLoss 0.0451 (0.0255)\tPrec@1 train 98.938 (nan)   \t\n",
      "\n",
      "Epoch [7/30]\tLoss 0.0447 (0.0256)\tPrec@1 train 98.950 (nan)   \t\n",
      "\n",
      "Epoch [8/30]\tLoss 0.0445 (0.0255)\tPrec@1 train 98.954 (nan)   \t\n",
      "\n",
      "Epoch [9/30]\tLoss 0.0442 (0.0253)\tPrec@1 train 98.955 (nan)   \t\n",
      "\n",
      "Epoch [10/30]\tLoss 0.0440 (0.0252)\tPrec@1 train 98.956 (nan)   \t\n",
      "\n",
      "Epoch [11/30]\tLoss 0.0439 (0.0253)\tPrec@1 train 98.957 (nan)   \t\n",
      "\n",
      "Epoch [12/30]\tLoss 0.0438 (0.0248)\tPrec@1 train 98.959 (nan)   \t\n",
      "\n",
      "Epoch [13/30]\tLoss 0.0436 (0.0249)\tPrec@1 train 98.960 (nan)   \t\n",
      "\n",
      "Epoch [14/30]\tLoss 0.0436 (0.0255)\tPrec@1 train 98.963 (nan)   \t\n",
      "\n",
      "Epoch [15/30]\tLoss 0.0435 (0.0249)\tPrec@1 train 98.963 (nan)   \t\n",
      "\n",
      "Epoch [16/30]\tLoss 0.0434 (0.0252)\tPrec@1 train 98.965 (nan)   \t\n",
      "\n",
      "Epoch [17/30]\tLoss 0.0433 (0.0252)\tPrec@1 train 98.966 (nan)   \t\n",
      "\n",
      "Epoch [18/30]\tLoss 0.0432 (0.0249)\tPrec@1 train 98.967 (nan)   \t\n",
      "\n",
      "Epoch [19/30]\tLoss 0.0432 (0.0252)\tPrec@1 train 98.969 (nan)   \t\n",
      "\n",
      "Epoch [20/30]\tLoss 0.0431 (0.0247)\tPrec@1 train 98.970 (nan)   \t\n",
      "\n",
      "Epoch [21/30]\tLoss 0.0430 (0.0249)\tPrec@1 train 98.970 (nan)   \t\n",
      "\n",
      "Epoch [22/30]\tLoss 0.0430 (0.0250)\tPrec@1 train 98.972 (nan)   \t\n",
      "\n",
      "Epoch [23/30]\tLoss 0.0429 (0.0249)\tPrec@1 train 98.972 (nan)   \t\n",
      "\n",
      "Epoch [24/30]\tLoss 0.0429 (0.0254)\tPrec@1 train 98.975 (nan)   \t\n",
      "\n",
      "Epoch [25/30]\tLoss 0.0428 (0.0248)\tPrec@1 train 98.979 (nan)   \t\n",
      "\n",
      "Epoch [26/30]\tLoss 0.0428 (0.0249)\tPrec@1 train 98.980 (nan)   \t\n",
      "\n",
      "Epoch [27/30]\tLoss 0.0427 (0.0248)\tPrec@1 train 98.979 (nan)   \t\n",
      "\n",
      "Epoch [28/30]\tLoss 0.0427 (0.0248)\tPrec@1 train 98.980 (nan)   \t\n",
      "\n",
      "Epoch [29/30]\tLoss 0.0426 (0.0245)\tPrec@1 train 98.982 (nan)   \t\n",
      "\n",
      "Epoch [30/30]\tLoss 0.0426 (0.0247)\tPrec@1 train 98.982 (nan)   \t\n"
     ]
    }
   ],
   "source": [
    "# clf_bn.load_state_dict(torch.load(os.path.join(result_dir, \"cicids17_bn_clf.pth\"),map_location='cpu'))\n",
    "clf_bn = train_model(clf_bn, train_bnloader, optim_bn, device, criterion_bn, epochs, save_dir = result_dir, \n",
    "                     save_model = \"cicids18_bn_clf.pth\",binary=True)"
   ]
  },
  {
   "cell_type": "code",
   "execution_count": 12,
   "metadata": {
    "scrolled": true
   },
   "outputs": [
    {
     "data": {
      "text/plain": [
       "(tensor(0.0423), tensor(98.9970), tensor(0.5192))"
      ]
     },
     "execution_count": 12,
     "metadata": {},
     "output_type": "execute_result"
    }
   ],
   "source": [
    "# torch.save(clf_mul,os.path.join(result_dir, \"cicids17_bn_clf.pth\"))\n",
    "clf_bn.load_state_dict(torch.load(os.path.join(result_dir, \"cicids18_bn_clf.pth\"),map_location='cpu'))\n",
    "test_model(clf_bn, test_bnloader, criterion_bn, device, 100.0, binary=True)"
   ]
  },
  {
   "cell_type": "code",
   "execution_count": 26,
   "metadata": {},
   "outputs": [],
   "source": [
    "from sklearn.metrics import roc_curve, auc\n",
    "\n",
    "predy = get_prediction(clf_bn, test_bnloader, device)\n",
    "testy = test_bnloader.dataset.tensors[1]\n",
    "pos_label = 1 # 1 or 0\n",
    "fpr, tpr, thresholds = roc_curve(testy.numpy(), predy.numpy(), pos_label=pos_label)\n",
    "roc_auc = auc(fpr, tpr)"
   ]
  },
  {
   "cell_type": "code",
   "execution_count": 27,
   "metadata": {},
   "outputs": [
    {
     "data": {
      "image/png": "[encoded data removed]",
      "text/plain": [
       "<Figure size 432x288 with 1 Axes>"
      ]
     },
     "metadata": {
      "needs_background": "light"
     },
     "output_type": "display_data"
    }
   ],
   "source": [
    "import matplotlib.pyplot as plt\n",
    "\n",
    "lw=2\n",
    "plt.figure()\n",
    "plt.plot(fpr, tpr, color=\"darkorange\", lw=lw, label =\"ROC curve (area= %.2f)\"%roc_auc)\n",
    "plt.plot([0,1],[0,1], color = \"navy\", lw=lw, linestyle='--')\n",
    "plt.xlim([0.0, 1.0])\n",
    "plt.ylim([0.0, 1.05])\n",
    "plt.xlabel(\"False Positive Rate\")\n",
    "plt.ylabel(\"True Positive Rate\")\n",
    "plt.title(\"Receiver operating characteristic example\")\n",
    "plt.legend(loc=\"lower right\")\n",
    "plt.show()"
   ]
  },
  {
   "cell_type": "markdown",
   "metadata": {},
   "source": [
    "# multi-class classification"
   ]
  },
  {
   "cell_type": "code",
   "execution_count": 41,
   "metadata": {},
   "outputs": [],
   "source": [
    "num_class = len(np.unique(ytrm))\n",
    "n_features = Xtrm.shape[1]"
   ]
  },
  {
   "cell_type": "code",
   "execution_count": 42,
   "metadata": {},
   "outputs": [],
   "source": [
    "clf_mul = MultNN(n_features, n_hidden=32, num_class=num_class)"
   ]
  },
  {
   "cell_type": "code",
   "execution_count": 43,
   "metadata": {},
   "outputs": [],
   "source": [
    "epochs = 30\n",
    "criterion_mul = nn.CrossEntropyLoss(label_smoothing=0.09)\n",
    "criterion_oe = nn.KLDivLoss()\n",
    "optim_mul = optim.Adam(clf_mul.parameters(),lr=0.0001)"
   ]
  },
  {
   "cell_type": "code",
   "execution_count": 44,
   "metadata": {},
   "outputs": [
    {
     "name": "stdout",
     "output_type": "stream",
     "text": [
      "\n",
      "Epoch [1/30]\tLoss 0.8630 (0.5002)\tPrec@1 train 90.690 (19.226)   \t\n",
      "\n",
      "Epoch [2/30]\tLoss 0.4948 (0.0285)\tPrec@1 train 99.577 (0.322)   \t\n",
      "\n",
      "Epoch [3/30]\tLoss 0.4758 (0.0157)\tPrec@1 train 99.716 (0.267)   \t\n",
      "\n",
      "Epoch [4/30]\tLoss 0.4695 (0.0092)\tPrec@1 train 99.825 (0.210)   \t\n",
      "\n",
      "Epoch [5/30]\tLoss 0.4670 (0.0062)\tPrec@1 train 99.875 (0.188)   \t\n",
      "\n",
      "Epoch [6/30]\tLoss 0.4655 (0.0053)\tPrec@1 train 99.892 (0.165)   \t\n",
      "\n",
      "Epoch [7/30]\tLoss 0.4645 (0.0048)\tPrec@1 train 99.897 (0.165)   \t\n",
      "\n",
      "Epoch [8/30]\tLoss 0.4638 (0.0043)\tPrec@1 train 99.905 (0.159)   \t\n",
      "\n",
      "Epoch [9/30]\tLoss 0.4633 (0.0042)\tPrec@1 train 99.918 (0.150)   \t\n",
      "\n",
      "Epoch [10/30]\tLoss 0.4629 (0.0040)\tPrec@1 train 99.921 (0.153)   \t\n",
      "\n",
      "Epoch [11/30]\tLoss 0.4626 (0.0038)\tPrec@1 train 99.926 (0.147)   \t\n",
      "\n",
      "Epoch [12/30]\tLoss 0.4623 (0.0036)\tPrec@1 train 99.932 (0.147)   \t\n",
      "\n",
      "Epoch [13/30]\tLoss 0.4621 (0.0035)\tPrec@1 train 99.933 (0.143)   \t\n",
      "\n",
      "Epoch [14/30]\tLoss 0.4619 (0.0033)\tPrec@1 train 99.934 (0.136)   \t\n",
      "\n",
      "Epoch [15/30]\tLoss 0.4617 (0.0031)\tPrec@1 train 99.934 (0.140)   \t\n",
      "\n",
      "Epoch [16/30]\tLoss 0.4616 (0.0029)\tPrec@1 train 99.941 (0.133)   \t\n",
      "\n",
      "Epoch [17/30]\tLoss 0.4614 (0.0030)\tPrec@1 train 99.944 (0.133)   \t\n",
      "\n",
      "Epoch [18/30]\tLoss 0.4613 (0.0029)\tPrec@1 train 99.949 (0.117)   \t\n",
      "\n",
      "Epoch [19/30]\tLoss 0.4612 (0.0026)\tPrec@1 train 99.950 (0.121)   \t\n",
      "\n",
      "Epoch [20/30]\tLoss 0.4611 (0.0027)\tPrec@1 train 99.957 (0.108)   \t\n",
      "\n",
      "Epoch [21/30]\tLoss 0.4611 (0.0026)\tPrec@1 train 99.959 (0.117)   \t\n",
      "\n",
      "Epoch [22/30]\tLoss 0.4610 (0.0027)\tPrec@1 train 99.959 (0.108)   \t\n",
      "\n",
      "Epoch [23/30]\tLoss 0.4610 (0.0026)\tPrec@1 train 99.960 (0.108)   \t\n",
      "\n",
      "Epoch [24/30]\tLoss 0.4609 (0.0025)\tPrec@1 train 99.960 (0.108)   \t\n",
      "\n",
      "Epoch [25/30]\tLoss 0.4609 (0.0024)\tPrec@1 train 99.961 (0.113)   \t\n",
      "\n",
      "Epoch [26/30]\tLoss 0.4608 (0.0025)\tPrec@1 train 99.962 (0.108)   \t\n",
      "\n",
      "Epoch [27/30]\tLoss 0.4608 (0.0023)\tPrec@1 train 99.962 (0.104)   \t\n",
      "\n",
      "Epoch [28/30]\tLoss 0.4608 (0.0024)\tPrec@1 train 99.963 (0.104)   \t\n",
      "\n",
      "Epoch [29/30]\tLoss 0.4608 (0.0024)\tPrec@1 train 99.963 (0.104)   \t\n",
      "\n",
      "Epoch [30/30]\tLoss 0.4607 (0.0023)\tPrec@1 train 99.963 (0.099)   \t\n"
     ]
    }
   ],
   "source": [
    "clf_mul = train_model(clf_mul, train_mulloader, optim_mul, device, criterion_mul, epochs, save_dir = result_dir, \n",
    "                     save_model = \"cicids18_mul_clf_LS.pth\", binary=False)"
   ]
  },
  {
   "cell_type": "code",
   "execution_count": 32,
   "metadata": {},
   "outputs": [
    {
     "name": "stdout",
     "output_type": "stream",
     "text": [
      "\n",
      "Epoch [1/30]\tLoss 0.5660 (0.6369)\tPrec@1 train 90.705 (17.803)   \t\n",
      "\n",
      "Epoch [2/30]\tLoss 0.0448 (0.0361)\tPrec@1 train 99.560 (0.322)   \t\n",
      "\n",
      "Epoch [3/30]\tLoss 0.0168 (0.0223)\tPrec@1 train 99.717 (0.280)   \t\n",
      "\n",
      "Epoch [4/30]\tLoss 0.0091 (0.0139)\tPrec@1 train 99.851 (0.198)   \t\n",
      "\n",
      "Epoch [5/30]\tLoss 0.0064 (0.0103)\tPrec@1 train 99.878 (0.182)   \t\n",
      "\n",
      "Epoch [6/30]\tLoss 0.0052 (0.0089)\tPrec@1 train 99.891 (0.174)   \t\n",
      "\n",
      "Epoch [7/30]\tLoss 0.0043 (0.0077)\tPrec@1 train 99.902 (0.171)   \t\n",
      "\n",
      "Epoch [8/30]\tLoss 0.0037 (0.0068)\tPrec@1 train 99.906 (0.162)   \t\n",
      "\n",
      "Epoch [9/30]\tLoss 0.0033 (0.0064)\tPrec@1 train 99.908 (0.156)   \t\n",
      "\n",
      "Epoch [10/30]\tLoss 0.0029 (0.0056)\tPrec@1 train 99.919 (0.156)   \t\n",
      "\n",
      "Epoch [11/30]\tLoss 0.0026 (0.0049)\tPrec@1 train 99.931 (0.136)   \t\n",
      "\n",
      "Epoch [12/30]\tLoss 0.0023 (0.0047)\tPrec@1 train 99.943 (0.129)   \t\n",
      "\n",
      "Epoch [13/30]\tLoss 0.0021 (0.0043)\tPrec@1 train 99.952 (0.117)   \t\n",
      "\n",
      "Epoch [14/30]\tLoss 0.0019 (0.0040)\tPrec@1 train 99.958 (0.113)   \t\n",
      "\n",
      "Epoch [15/30]\tLoss 0.0017 (0.0039)\tPrec@1 train 99.960 (0.108)   \t\n",
      "\n",
      "Epoch [16/30]\tLoss 0.0016 (0.0037)\tPrec@1 train 99.964 (0.108)   \t\n",
      "\n",
      "Epoch [17/30]\tLoss 0.0014 (0.0035)\tPrec@1 train 99.968 (0.099)   \t\n",
      "\n",
      "Epoch [18/30]\tLoss 0.0013 (0.0035)\tPrec@1 train 99.972 (0.088)   \t\n",
      "\n",
      "Epoch [19/30]\tLoss 0.0013 (0.0033)\tPrec@1 train 99.974 (0.088)   \t\n",
      "\n",
      "Epoch [20/30]\tLoss 0.0012 (0.0032)\tPrec@1 train 99.974 (0.088)   \t\n",
      "\n",
      "Epoch [21/30]\tLoss 0.0011 (0.0031)\tPrec@1 train 99.974 (0.094)   \t\n",
      "\n",
      "Epoch [22/30]\tLoss 0.0011 (0.0030)\tPrec@1 train 99.974 (0.094)   \t\n",
      "\n",
      "Epoch [23/30]\tLoss 0.0010 (0.0028)\tPrec@1 train 99.975 (0.083)   \t\n",
      "\n",
      "Epoch [24/30]\tLoss 0.0010 (0.0028)\tPrec@1 train 99.976 (0.088)   \t\n",
      "\n",
      "Epoch [25/30]\tLoss 0.0009 (0.0026)\tPrec@1 train 99.976 (0.083)   \t\n",
      "\n",
      "Epoch [26/30]\tLoss 0.0009 (0.0026)\tPrec@1 train 99.977 (0.083)   \t\n",
      "\n",
      "Epoch [27/30]\tLoss 0.0009 (0.0026)\tPrec@1 train 99.977 (0.083)   \t\n",
      "\n",
      "Epoch [28/30]\tLoss 0.0008 (0.0025)\tPrec@1 train 99.977 (0.088)   \t\n",
      "\n",
      "Epoch [29/30]\tLoss 0.0008 (0.0024)\tPrec@1 train 99.978 (0.083)   \t\n",
      "\n",
      "Epoch [30/30]\tLoss 0.0008 (0.0023)\tPrec@1 train 99.978 (0.077)   \t\n"
     ]
    }
   ],
   "source": [
    "# clf_mul = train_model(clf_mul, train_mulloader, optim_mul, device, criterion_mul, epochs, save_dir = result_dir, \n",
    "#                      save_model = \"cicids18_mul_clf.pth\", binary=False)"
   ]
  },
  {
   "cell_type": "code",
   "execution_count": 16,
   "metadata": {},
   "outputs": [
    {
     "name": "stderr",
     "output_type": "stream",
     "text": [
      "/home/saerom/.pyenv/versions/pytorch111/lib/python3.8/site-packages/torch/nn/functional.py:2747: UserWarning: reduction: 'mean' divides the total loss by both the batch size and the support size.'batchmean' divides only by the batch size, and aligns with the KL div math definition.'mean' will be changed to behave the same as 'batchmean' in the next major release.\n",
      "  warnings.warn(\n"
     ]
    },
    {
     "name": "stdout",
     "output_type": "stream",
     "text": [
      "\n",
      "Epoch [1/30]\tLoss 0.6813 (0.6374)\tLoss1/Loss2 0.6286/0.0527\tPrec@1 train 89.760 (20.682)   \t\n",
      "\n",
      "Epoch [2/30]\tLoss 0.1519 (0.0339)\tLoss1/Loss2 0.0990/0.0529\tPrec@1 train 99.358 (0.417)   \t\n",
      "\n",
      "Epoch [3/30]\tLoss 0.1105 (0.0211)\tLoss1/Loss2 0.0658/0.0446\tPrec@1 train 99.558 (0.295)   \t\n",
      "\n",
      "Epoch [4/30]\tLoss 0.0945 (0.0212)\tLoss1/Loss2 0.0540/0.0405\tPrec@1 train 99.687 (0.281)   \t\n",
      "\n",
      "Epoch [5/30]\tLoss 0.0865 (0.0168)\tLoss1/Loss2 0.0491/0.0373\tPrec@1 train 99.774 (0.240)   \t\n",
      "\n",
      "Epoch [6/30]\tLoss 0.0817 (0.0137)\tLoss1/Loss2 0.0464/0.0353\tPrec@1 train 99.808 (0.217)   \t\n",
      "\n",
      "Epoch [7/30]\tLoss 0.0786 (0.0133)\tLoss1/Loss2 0.0445/0.0341\tPrec@1 train 99.835 (0.207)   \t\n",
      "\n",
      "Epoch [8/30]\tLoss 0.0767 (0.0136)\tLoss1/Loss2 0.0433/0.0334\tPrec@1 train 99.855 (0.195)   \t\n",
      "\n",
      "Epoch [9/30]\tLoss 0.0751 (0.0127)\tLoss1/Loss2 0.0423/0.0328\tPrec@1 train 99.865 (0.182)   \t\n",
      "\n",
      "Epoch [10/30]\tLoss 0.0739 (0.0124)\tLoss1/Loss2 0.0415/0.0324\tPrec@1 train 99.880 (0.171)   \t\n",
      "\n",
      "Epoch [11/30]\tLoss 0.0729 (0.0120)\tLoss1/Loss2 0.0409/0.0319\tPrec@1 train 99.890 (0.165)   \t\n",
      "\n",
      "Epoch [12/30]\tLoss 0.0722 (0.0125)\tLoss1/Loss2 0.0404/0.0318\tPrec@1 train 99.895 (0.171)   \t\n",
      "\n",
      "Epoch [13/30]\tLoss 0.0718 (0.0123)\tLoss1/Loss2 0.0401/0.0317\tPrec@1 train 99.902 (0.159)   \t\n",
      "\n",
      "Epoch [14/30]\tLoss 0.0711 (0.0115)\tLoss1/Loss2 0.0397/0.0314\tPrec@1 train 99.908 (0.156)   \t\n",
      "\n",
      "Epoch [15/30]\tLoss 0.0706 (0.0115)\tLoss1/Loss2 0.0393/0.0313\tPrec@1 train 99.911 (0.153)   \t\n",
      "\n",
      "Epoch [16/30]\tLoss 0.0701 (0.0120)\tLoss1/Loss2 0.0391/0.0310\tPrec@1 train 99.912 (0.159)   \t\n",
      "\n",
      "Epoch [17/30]\tLoss 0.0697 (0.0112)\tLoss1/Loss2 0.0388/0.0309\tPrec@1 train 99.913 (0.153)   \t\n",
      "\n",
      "Epoch [18/30]\tLoss 0.0694 (0.0116)\tLoss1/Loss2 0.0386/0.0308\tPrec@1 train 99.914 (0.162)   \t\n",
      "\n",
      "Epoch [19/30]\tLoss 0.0690 (0.0115)\tLoss1/Loss2 0.0384/0.0306\tPrec@1 train 99.914 (0.153)   \t\n",
      "\n",
      "Epoch [20/30]\tLoss 0.0688 (0.0115)\tLoss1/Loss2 0.0382/0.0306\tPrec@1 train 99.914 (0.156)   \t\n",
      "\n",
      "Epoch [21/30]\tLoss 0.0686 (0.0116)\tLoss1/Loss2 0.0381/0.0305\tPrec@1 train 99.915 (0.153)   \t\n",
      "\n",
      "Epoch [22/30]\tLoss 0.0683 (0.0107)\tLoss1/Loss2 0.0380/0.0304\tPrec@1 train 99.915 (0.153)   \t\n",
      "\n",
      "Epoch [23/30]\tLoss 0.0680 (0.0108)\tLoss1/Loss2 0.0378/0.0302\tPrec@1 train 99.915 (0.147)   \t\n",
      "\n",
      "Epoch [24/30]\tLoss 0.0680 (0.0121)\tLoss1/Loss2 0.0377/0.0303\tPrec@1 train 99.915 (0.150)   \t\n",
      "\n",
      "Epoch [25/30]\tLoss 0.0677 (0.0112)\tLoss1/Loss2 0.0375/0.0301\tPrec@1 train 99.915 (0.153)   \t\n",
      "\n",
      "Epoch [26/30]\tLoss 0.0676 (0.0109)\tLoss1/Loss2 0.0375/0.0301\tPrec@1 train 99.916 (0.147)   \t\n",
      "\n",
      "Epoch [27/30]\tLoss 0.0673 (0.0108)\tLoss1/Loss2 0.0374/0.0300\tPrec@1 train 99.916 (0.153)   \t\n",
      "\n",
      "Epoch [28/30]\tLoss 0.0671 (0.0103)\tLoss1/Loss2 0.0372/0.0299\tPrec@1 train 99.918 (0.150)   \t\n",
      "\n",
      "Epoch [29/30]\tLoss 0.0671 (0.0109)\tLoss1/Loss2 0.0371/0.0300\tPrec@1 train 99.921 (0.147)   \t\n",
      "\n",
      "Epoch [30/30]\tLoss 0.0668 (0.0102)\tLoss1/Loss2 0.0370/0.0298\tPrec@1 train 99.925 (0.147)   \t\n"
     ]
    }
   ],
   "source": [
    "# clf_mul = train_model_with_oe_KL(clf_mul, train_mulloader, outlier_trloader, num_class, optim_mul, device, \n",
    "#                                  criterion_mul, criterion_oe, 1.0,epochs, save_dir = result_dir, \n",
    "#                      save_model = \"cicids18_mul_clf_OE.pth\",binary=False)"
   ]
  },
  {
   "cell_type": "code",
   "execution_count": 33,
   "metadata": {},
   "outputs": [
    {
     "data": {
      "text/plain": [
       "(tensor(0.0021), tensor(99.9728), tensor(0.0938))"
      ]
     },
     "execution_count": 33,
     "metadata": {},
     "output_type": "execute_result"
    }
   ],
   "source": [
    "# clf_mul.load_state_dict(torch.load(os.path.join(result_dir, \"cicids17_mul_clf_LS.pth\"),map_location='cpu'))\n",
    "test_model(clf_mul, test_mulloader, criterion_mul, device, 100.0, binary=False)"
   ]
  },
  {
   "cell_type": "markdown",
   "metadata": {},
   "source": [
    "# evaluate multi-class model"
   ]
  },
  {
   "cell_type": "code",
   "execution_count": 18,
   "metadata": {},
   "outputs": [],
   "source": [
    "from sklearn.metrics import confusion_matrix"
   ]
  },
  {
   "cell_type": "code",
   "execution_count": 50,
   "metadata": {},
   "outputs": [],
   "source": [
    "pred_m = torch.softmax(get_prediction(clf_mul, test_mulloader, device),dim=1).numpy()\n",
    "predy_m = np.argmax(pred_m,axis=-1)"
   ]
  },
  {
   "cell_type": "code",
   "execution_count": 51,
   "metadata": {},
   "outputs": [],
   "source": [
    "confusion_mtx = confusion_matrix(ytem, predy_m)"
   ]
  },
  {
   "cell_type": "code",
   "execution_count": 52,
   "metadata": {},
   "outputs": [
    {
     "data": {
      "image/png": "[encoded data removed]",
      "text/plain": [
       "<Figure size 432x288 with 2 Axes>"
      ]
     },
     "metadata": {
      "needs_background": "light"
     },
     "output_type": "display_data"
    }
   ],
   "source": [
    "plot_confusion_matrix(confusion_mtx, classes = range(10))"
   ]
  },
  {
   "cell_type": "code",
   "execution_count": 53,
   "metadata": {},
   "outputs": [
    {
     "data": {
      "image/png": "[encoded data removed]",
      "text/plain": [
       "<Figure size 432x288 with 1 Axes>"
      ]
     },
     "metadata": {
      "needs_background": "light"
     },
     "output_type": "display_data"
    }
   ],
   "source": [
    "plt.hist(np.max(pred_m,axis=1))\n",
    "plt.title(\"confidence for in-distribution data\")\n",
    "plt.show()"
   ]
  },
  {
   "cell_type": "code",
   "execution_count": 55,
   "metadata": {},
   "outputs": [
    {
     "data": {
      "image/png": "[encoded data removed]",
      "text/plain": [
       "<Figure size 432x288 with 1 Axes>"
      ]
     },
     "metadata": {
      "needs_background": "light"
     },
     "output_type": "display_data"
    }
   ],
   "source": [
    "plt.scatter(predy_m,np.max(pred_m,axis=1),alpha=.5)\n",
    "plt.show()"
   ]
  },
  {
   "cell_type": "code",
   "execution_count": 45,
   "metadata": {},
   "outputs": [],
   "source": [
    "prob_ooc = torch.softmax(get_prediction(clf_mul, outlier_trloader, device), dim=1)\n",
    "pred_ooc = torch.argmax(prob_ooc, dim=1)"
   ]
  },
  {
   "cell_type": "code",
   "execution_count": 46,
   "metadata": {},
   "outputs": [
    {
     "name": "stdout",
     "output_type": "stream",
     "text": [
      "{'Brute Force -Web': 0, 'Brute Force -XSS': 0, 'SQL Injection': 0, 'DoS attacks-Hulk': 1, 'DoS attacks-GoldenEye': 2, 'DoS attacks-Slowloris': 3, 'Bot': 4, 'DDoS attacks-LOIC-HTTP': 5, 'DDOS attack-HOIC': 6, 'Infilteration': 7, 'FTP-BruteForce': 8, 'SSH-Bruteforce': 9}\n"
     ]
    }
   ],
   "source": [
    "lab_dic18, lab_name18 = cluster_labels_2018()"
   ]
  },
  {
   "cell_type": "code",
   "execution_count": 47,
   "metadata": {},
   "outputs": [
    {
     "data": {
      "image/png": "[encoded data removed]",
      "text/plain": [
       "<Figure size 432x288 with 1 Axes>"
      ]
     },
     "metadata": {
      "needs_background": "light"
     },
     "output_type": "display_data"
    }
   ],
   "source": [
    "plt.hist(pred_ooc.numpy())\n",
    "plt.title(\"Benign data prediction\")\n",
    "plt.xticks(range(10),lab_name18, rotation=90)\n",
    "plt.show()"
   ]
  },
  {
   "cell_type": "code",
   "execution_count": 48,
   "metadata": {},
   "outputs": [
    {
     "data": {
      "image/png": "[encoded data removed]",
      "text/plain": [
       "<Figure size 432x288 with 1 Axes>"
      ]
     },
     "metadata": {
      "needs_background": "light"
     },
     "output_type": "display_data"
    }
   ],
   "source": [
    "plt.hist(np.max(prob_ooc.numpy(),axis=1))\n",
    "plt.title(\"maximum prediction probability for ooc data\")\n",
    "plt.show()"
   ]
  },
  {
   "cell_type": "code",
   "execution_count": 49,
   "metadata": {},
   "outputs": [
    {
     "data": {
      "image/png": "[encoded data removed]",
      "text/plain": [
       "<Figure size 432x288 with 1 Axes>"
      ]
     },
     "metadata": {
      "needs_background": "light"
     },
     "output_type": "display_data"
    }
   ],
   "source": [
    "plt.scatter(pred_ooc,np.max(prob_ooc.numpy(),axis=1),alpha=.5)\n",
    "plt.show()"
   ]
  },
  {
   "cell_type": "code",
   "execution_count": null,
   "metadata": {},
   "outputs": [],
   "source": []
  }
 ],
 "metadata": {
  "kernelspec": {
   "display_name": "torch11.1",
   "language": "python",
   "name": "pytorch111"
  },
  "language_info": {
   "codemirror_mode": {
    "name": "ipython",
    "version": 3
   },
   "file_extension": ".py",
   "mimetype": "text/x-python",
   "name": "python",
   "nbconvert_exporter": "python",
   "pygments_lexer": "ipython3",
   "version": "3.8.6"
  }
 },
 "nbformat": 4,
 "nbformat_minor": 4
}
