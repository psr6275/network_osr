{
 "cells": [
  {
   "cell_type": "code",
   "execution_count": 1,
   "id": "b5ae40fb",
   "metadata": {},
   "outputs": [],
   "source": [
    "import numpy as np\n",
    "import os\n",
    "import pickle\n",
    "import torch\n",
    "import torch.nn as nn\n",
    "import torch.optim as optim\n",
    "\n",
    "from torch.utils.data import TensorDataset\n",
    "from torch.utils.data import DataLoader\n",
    "\n",
    "from sklearn.preprocessing import StandardScaler\n",
    "import pandas as pd\n",
    "\n",
    "from utils import *"
   ]
  },
  {
   "cell_type": "code",
   "execution_count": 2,
   "id": "e7f6b5ea",
   "metadata": {},
   "outputs": [],
   "source": [
    "device = torch.device('cuda:0')"
   ]
  },
  {
   "cell_type": "code",
   "execution_count": 3,
   "id": "a27fc3ae",
   "metadata": {},
   "outputs": [],
   "source": [
    "result_dir = '../results/ids-dataset'\n",
    "batch_size = 256"
   ]
  },
  {
   "cell_type": "markdown",
   "id": "2054641a",
   "metadata": {},
   "source": [
    "## set OOC column"
   ]
  },
  {
   "cell_type": "code",
   "execution_count": 4,
   "id": "e92fb71e",
   "metadata": {},
   "outputs": [],
   "source": [
    "ooc_cols = 0"
   ]
  },
  {
   "cell_type": "code",
   "execution_count": 50,
   "id": "424e388b",
   "metadata": {},
   "outputs": [
    {
     "name": "stdout",
     "output_type": "stream",
     "text": [
      "{'Web Attack \\x96 Brute Force': 0, 'Web Attack \\x96 XSS': 0, 'Web Attack \\x96 Sql Injection': 0, 'DoS Hulk': 1, 'DoS GoldenEye': 1, 'DoS slowloris': 2, 'DoS Slowhttptest': 2, 'DDoS': 3, 'Bot': 4, 'PortScan': 5, 'FTP-Patator': 6, 'SSH-Patator': 7}\n"
     ]
    }
   ],
   "source": [
    "lab_dic, lab_name = cluster_labels_2017()"
   ]
  },
  {
   "cell_type": "code",
   "execution_count": 5,
   "id": "e74ac2b9",
   "metadata": {
    "collapsed": true
   },
   "outputs": [
    {
     "name": "stdout",
     "output_type": "stream",
     "text": [
      "ooc data:  ['Web Attack \\x96 Brute Force', 'Web Attack \\x96 XSS', 'Web Attack \\x96 Sql Injection']\n",
      "ooc data:  ['Web Attack \\x96 Brute Force', 'Web Attack \\x96 XSS', 'Web Attack \\x96 Sql Injection']\n",
      "{'Web Attack \\x96 Brute Force': 0, 'Web Attack \\x96 XSS': 0, 'Web Attack \\x96 Sql Injection': 0, 'DoS Hulk': 1, 'DoS GoldenEye': 1, 'DoS slowloris': 2, 'DoS Slowhttptest': 2, 'DDoS': 3, 'Bot': 4, 'PortScan': 5, 'FTP-Patator': 6, 'SSH-Patator': 7}\n",
      "drop Benign\n",
      "drop Infiltration\n",
      "drop Heartbleed\n",
      "original instances:  1040360\n",
      "drop intances:  751106\n",
      "after drop:  289254\n",
      "drop Benign\n",
      "drop Infiltration\n",
      "drop Heartbleed\n",
      "original instances:  260090\n",
      "drop intances:  187670\n",
      "after drop:  72420\n",
      "ooc column:  Web Attack\n",
      "ooc column:  Web Attack\n"
     ]
    }
   ],
   "source": [
    "cicids17_bn = load_cicids_binary_data(\"2017\",result_dir,True, ooc_cols)\n",
    "cicids17_m = load_cicids_mult_data(\"2017\",result_dir,True, ooc_cols)"
   ]
  },
  {
   "cell_type": "markdown",
   "id": "72fb579f",
   "metadata": {},
   "source": [
    "# Train binary model!"
   ]
  },
  {
   "cell_type": "code",
   "execution_count": 6,
   "id": "b78032c6",
   "metadata": {},
   "outputs": [],
   "source": [
    "Xtr_bn = cicids17_bn[-1].transform(cicids17_bn[0])\n",
    "Xte_bn = cicids17_bn[-1].transform(cicids17_bn[2])\n",
    "ytr_bn = cicids17_bn[1]\n",
    "yte_bn = cicids17_bn[3]"
   ]
  },
  {
   "cell_type": "code",
   "execution_count": 8,
   "id": "a3a19e8d",
   "metadata": {},
   "outputs": [],
   "source": [
    "train_bnloader = make_dataloader(Xtr_bn,ytr_bn, batch_size = batch_size, shuffle=True)\n",
    "test_bnloader = make_dataloader(Xte_bn,yte_bn, batch_size = batch_size, shuffle=False)"
   ]
  },
  {
   "cell_type": "code",
   "execution_count": 9,
   "id": "836897d9",
   "metadata": {},
   "outputs": [],
   "source": [
    "n_features = Xtr_bn.shape[1]\n",
    "clf_bn = BinaryNN(n_features)"
   ]
  },
  {
   "cell_type": "code",
   "execution_count": 10,
   "id": "f1b081c8",
   "metadata": {},
   "outputs": [],
   "source": [
    "epochs = 30\n",
    "criterion_bn = nn.BCELoss()\n",
    "optim_bn = optim.Adam(clf_bn.parameters(),lr=0.0001)"
   ]
  },
  {
   "cell_type": "code",
   "execution_count": 12,
   "id": "681b361f",
   "metadata": {},
   "outputs": [
    {
     "name": "stdout",
     "output_type": "stream",
     "text": [
      "\n",
      "Epoch [1/30]\tLoss 0.1984 (0.1444)\tPrec@1 train 92.630 (5.891)   \t\n",
      "\n",
      "Epoch [2/30]\tLoss 0.0870 (0.0393)\tPrec@1 train 95.595 (1.279)   \t\n",
      "\n",
      "Epoch [3/30]\tLoss 0.0754 (0.0410)\tPrec@1 train 95.728 (1.228)   \t\n",
      "\n",
      "Epoch [4/30]\tLoss 0.0669 (0.0477)\tPrec@1 train 95.916 (1.224)   \t\n",
      "\n",
      "Epoch [5/30]\tLoss 0.0594 (0.0570)\tPrec@1 train 96.125 (1.194)   \t\n",
      "\n",
      "Epoch [6/30]\tLoss 0.0522 (0.0671)\tPrec@1 train 96.311 (1.151)   \t\n",
      "\n",
      "Epoch [7/30]\tLoss 0.0450 (0.0819)\tPrec@1 train 96.451 (1.138)   \t\n",
      "\n",
      "Epoch [8/30]\tLoss 0.0397 (0.0836)\tPrec@1 train 96.578 (1.120)   \t\n",
      "\n",
      "Epoch [9/30]\tLoss 0.0354 (0.0846)\tPrec@1 train 96.699 (1.085)   \t\n",
      "\n",
      "Epoch [10/30]\tLoss 0.0317 (0.0834)\tPrec@1 train 97.141 (1.028)   \t\n",
      "\n",
      "Epoch [11/30]\tLoss 0.0286 (0.0833)\tPrec@1 train 97.582 (0.939)   \t\n",
      "\n",
      "Epoch [12/30]\tLoss 0.0257 (0.0820)\tPrec@1 train 97.719 (0.848)   \t\n",
      "\n",
      "Epoch [13/30]\tLoss 0.0231 (0.0828)\tPrec@1 train 97.634 (0.870)   \t\n",
      "\n",
      "Epoch [14/30]\tLoss 0.0207 (0.0842)\tPrec@1 train 97.590 (0.880)   \t\n",
      "\n",
      "Epoch [15/30]\tLoss 0.0186 (0.0846)\tPrec@1 train 97.627 (0.905)   \t\n",
      "\n",
      "Epoch [16/30]\tLoss 0.0165 (0.0834)\tPrec@1 train 97.648 (0.845)   \t\n",
      "\n",
      "Epoch [17/30]\tLoss 0.0146 (0.0838)\tPrec@1 train 97.700 (0.865)   \t\n",
      "\n",
      "Epoch [18/30]\tLoss 0.0128 (0.0846)\tPrec@1 train 97.767 (0.835)   \t\n",
      "\n",
      "Epoch [19/30]\tLoss 0.0110 (0.0857)\tPrec@1 train 97.842 (0.805)   \t\n",
      "\n",
      "Epoch [20/30]\tLoss 0.0093 (0.0883)\tPrec@1 train 97.902 (0.832)   \t\n",
      "\n",
      "Epoch [21/30]\tLoss 0.0078 (0.0868)\tPrec@1 train 97.924 (0.778)   \t\n",
      "\n",
      "Epoch [22/30]\tLoss 0.0063 (0.0891)\tPrec@1 train 97.953 (0.745)   \t\n",
      "\n",
      "Epoch [23/30]\tLoss 0.0048 (0.0911)\tPrec@1 train 97.991 (0.755)   \t\n",
      "\n",
      "Epoch [24/30]\tLoss 0.0033 (0.0923)\tPrec@1 train 98.017 (0.761)   \t\n",
      "\n",
      "Epoch [25/30]\tLoss 0.0016 (0.0950)\tPrec@1 train 98.073 (0.779)   \t\n",
      "\n",
      "Epoch [26/30]\tLoss 0.0006 (0.0936)\tPrec@1 train 98.120 (0.725)   \t\n",
      "\n",
      "Epoch [27/30]\tLoss -0.0004 (0.0940)\tPrec@1 train 98.171 (0.730)   \t\n",
      "\n",
      "Epoch [28/30]\tLoss -0.0014 (0.0943)\tPrec@1 train 98.228 (0.711)   \t\n",
      "\n",
      "Epoch [29/30]\tLoss -0.0023 (0.0968)\tPrec@1 train 98.280 (0.724)   \t\n",
      "\n",
      "Epoch [30/30]\tLoss -0.0033 (0.0937)\tPrec@1 train 98.327 (0.671)   \t\n"
     ]
    }
   ],
   "source": [
    "clf_bn = train_model(clf_bn, train_bnloader, optim_bn, device, criterion_bn, epochs, save_dir = result_dir, \n",
    "                     save_model = \"cicids17_ooc_%s_bn_clf.pth\"%(lab_name[ooc_cols]),binary=True)"
   ]
  },
  {
   "cell_type": "code",
   "execution_count": 15,
   "id": "e8611ad5",
   "metadata": {},
   "outputs": [
    {
     "data": {
      "text/plain": [
       "(tensor(0.0035), tensor(98.3533), tensor(0.7924))"
      ]
     },
     "execution_count": 15,
     "metadata": {},
     "output_type": "execute_result"
    }
   ],
   "source": [
    "test_model(clf_bn, test_bnloader, criterion_bn, device, 100.0, binary=True)"
   ]
  },
  {
   "cell_type": "code",
   "execution_count": 16,
   "id": "0ecc35d8",
   "metadata": {},
   "outputs": [],
   "source": [
    "from sklearn.metrics import roc_curve, auc\n",
    "\n",
    "predy = get_prediction(clf_bn, test_bnloader, device)\n",
    "testy = test_bnloader.dataset.tensors[1]\n",
    "pos_label = 1 # 1 or 0\n",
    "fpr, tpr, thresholds = roc_curve(testy.numpy(), predy.numpy(), pos_label=pos_label)\n",
    "roc_auc = auc(fpr, tpr)"
   ]
  },
  {
   "cell_type": "code",
   "execution_count": 17,
   "id": "bf5f9fe6",
   "metadata": {},
   "outputs": [
    {
     "data": {
      "image/png": "[encoded data removed]",
      "text/plain": [
       "<Figure size 432x288 with 1 Axes>"
      ]
     },
     "metadata": {
      "needs_background": "light"
     },
     "output_type": "display_data"
    }
   ],
   "source": [
    "import matplotlib.pyplot as plt\n",
    "\n",
    "lw=2\n",
    "plt.figure()\n",
    "plt.plot(fpr, tpr, color=\"darkorange\", lw=lw, label =\"ROC curve (area= %.2f)\"%roc_auc)\n",
    "plt.plot([0,1],[0,1], color = \"navy\", lw=lw, linestyle='--')\n",
    "plt.xlim([0.0, 1.0])\n",
    "plt.ylim([0.0, 1.05])\n",
    "plt.xlabel(\"False Positive Rate\")\n",
    "plt.ylabel(\"True Positive Rate\")\n",
    "plt.title(\"Receiver operating characteristic example\")\n",
    "plt.legend(loc=\"lower right\")\n",
    "plt.show()"
   ]
  },
  {
   "cell_type": "markdown",
   "id": "1e89b8ff",
   "metadata": {},
   "source": [
    "# Train multi-class classification"
   ]
  },
  {
   "cell_type": "code",
   "execution_count": 18,
   "id": "85a4ea94",
   "metadata": {},
   "outputs": [],
   "source": [
    "Xtrm = cicids17_m[-1].transform(cicids17_m[0])\n",
    "Xtem = cicids17_m[-1].transform(cicids17_m[2])\n",
    "ytrm = cicids17_m[1]\n",
    "ytem = cicids17_m[3]\n",
    "train_mulloader = make_dataloader(Xtrm,ytrm.to_numpy().flatten(), batch_size = batch_size, shuffle=True)\n",
    "test_mulloader = make_dataloader(Xtem,ytem.to_numpy().flatten(), batch_size = batch_size, shuffle=False)"
   ]
  },
  {
   "cell_type": "code",
   "execution_count": 21,
   "id": "bc073052",
   "metadata": {},
   "outputs": [],
   "source": [
    "Xbtr = cicids17_m[-1].transform(cicids17_bn[0][ytr_bn==0])\n",
    "Xbte = cicids17_m[-1].transform(cicids17_bn[2][yte_bn==0])\n",
    "outlier_trloader = make_dataloader(Xbtr,np.zeros(len(Xbtr)),batch_size=batch_size, shuffle=True)\n",
    "outlier_teloader = make_dataloader(Xbte,np.zeros(len(Xbte)),batch_size=batch_size, shuffle=True)"
   ]
  },
  {
   "cell_type": "code",
   "execution_count": 22,
   "id": "02ad1171",
   "metadata": {},
   "outputs": [],
   "source": [
    "num_class = len(np.unique(ytrm))\n",
    "n_features = Xtrm.shape[1]"
   ]
  },
  {
   "cell_type": "code",
   "execution_count": 23,
   "id": "a14ffe05",
   "metadata": {},
   "outputs": [],
   "source": [
    "clf_mul = MultNN(n_features, n_hidden=32, num_class=num_class)"
   ]
  },
  {
   "cell_type": "code",
   "execution_count": 24,
   "id": "cc00d00a",
   "metadata": {},
   "outputs": [],
   "source": [
    "epochs = 30\n",
    "criterion_mul = nn.CrossEntropyLoss()\n",
    "optim_mul = optim.Adam(clf_mul.parameters(),lr=0.0001)"
   ]
  },
  {
   "cell_type": "code",
   "execution_count": 25,
   "id": "7e648652",
   "metadata": {},
   "outputs": [
    {
     "name": "stdout",
     "output_type": "stream",
     "text": [
      "\n",
      "Epoch [1/30]\tLoss 0.7183 (0.4864)\tPrec@1 train 84.159 (13.298)   \t\n",
      "\n",
      "Epoch [2/30]\tLoss 0.1335 (0.0660)\tPrec@1 train 97.605 (1.466)   \t\n",
      "\n",
      "Epoch [3/30]\tLoss 0.0648 (0.0473)\tPrec@1 train 98.847 (0.659)   \t\n",
      "\n",
      "Epoch [4/30]\tLoss 0.0409 (0.0310)\tPrec@1 train 99.245 (0.541)   \t\n",
      "\n",
      "Epoch [5/30]\tLoss 0.0265 (0.0156)\tPrec@1 train 99.448 (0.442)   \t\n",
      "\n",
      "Epoch [6/30]\tLoss 0.0191 (0.0129)\tPrec@1 train 99.598 (0.388)   \t\n",
      "\n",
      "Epoch [7/30]\tLoss 0.0148 (0.0111)\tPrec@1 train 99.612 (0.358)   \t\n",
      "\n",
      "Epoch [8/30]\tLoss 0.0119 (0.0102)\tPrec@1 train 99.636 (0.355)   \t\n",
      "\n",
      "Epoch [9/30]\tLoss 0.0097 (0.0094)\tPrec@1 train 99.694 (0.326)   \t\n",
      "\n",
      "Epoch [10/30]\tLoss 0.0080 (0.0086)\tPrec@1 train 99.827 (0.254)   \t\n",
      "\n",
      "Epoch [11/30]\tLoss 0.0067 (0.0078)\tPrec@1 train 99.877 (0.200)   \t\n",
      "\n",
      "Epoch [12/30]\tLoss 0.0057 (0.0074)\tPrec@1 train 99.890 (0.185)   \t\n",
      "\n",
      "Epoch [13/30]\tLoss 0.0050 (0.0072)\tPrec@1 train 99.923 (0.156)   \t\n",
      "\n",
      "Epoch [14/30]\tLoss 0.0045 (0.0071)\tPrec@1 train 99.936 (0.143)   \t\n",
      "\n",
      "Epoch [15/30]\tLoss 0.0040 (0.0068)\tPrec@1 train 99.941 (0.136)   \t\n",
      "\n",
      "Epoch [16/30]\tLoss 0.0037 (0.0067)\tPrec@1 train 99.946 (0.125)   \t\n",
      "\n",
      "Epoch [17/30]\tLoss 0.0035 (0.0066)\tPrec@1 train 99.947 (0.133)   \t\n",
      "\n",
      "Epoch [18/30]\tLoss 0.0033 (0.0065)\tPrec@1 train 99.948 (0.129)   \t\n",
      "\n",
      "Epoch [19/30]\tLoss 0.0031 (0.0066)\tPrec@1 train 99.947 (0.136)   \t\n",
      "\n",
      "Epoch [20/30]\tLoss 0.0029 (0.0063)\tPrec@1 train 99.949 (0.121)   \t\n",
      "\n",
      "Epoch [21/30]\tLoss 0.0028 (0.0060)\tPrec@1 train 99.949 (0.125)   \t\n",
      "\n",
      "Epoch [22/30]\tLoss 0.0027 (0.0062)\tPrec@1 train 99.951 (0.129)   \t\n",
      "\n",
      "Epoch [23/30]\tLoss 0.0026 (0.0061)\tPrec@1 train 99.952 (0.129)   \t\n",
      "\n",
      "Epoch [24/30]\tLoss 0.0025 (0.0058)\tPrec@1 train 99.953 (0.125)   \t\n",
      "\n",
      "Epoch [25/30]\tLoss 0.0024 (0.0053)\tPrec@1 train 99.953 (0.113)   \t\n",
      "\n",
      "Epoch [26/30]\tLoss 0.0023 (0.0055)\tPrec@1 train 99.956 (0.117)   \t\n",
      "\n",
      "Epoch [27/30]\tLoss 0.0022 (0.0054)\tPrec@1 train 99.955 (0.117)   \t\n",
      "\n",
      "Epoch [28/30]\tLoss 0.0022 (0.0055)\tPrec@1 train 99.956 (0.125)   \t\n",
      "\n",
      "Epoch [29/30]\tLoss 0.0021 (0.0051)\tPrec@1 train 99.960 (0.108)   \t\n",
      "\n",
      "Epoch [30/30]\tLoss 0.0021 (0.0050)\tPrec@1 train 99.958 (0.117)   \t\n"
     ]
    }
   ],
   "source": [
    "clf_mul = train_model(clf_mul, train_mulloader, optim_mul, device, criterion_mul, epochs, save_dir = result_dir, \n",
    "                     save_model = \"cicids17_ooc_%s_mul_clf.pth\"%(lab_name[ooc_cols]),binary=False)"
   ]
  },
  {
   "cell_type": "code",
   "execution_count": 26,
   "id": "c91a012d",
   "metadata": {},
   "outputs": [
    {
     "data": {
      "text/plain": [
       "(tensor(0.0023), tensor(99.9625), tensor(0.1169))"
      ]
     },
     "execution_count": 26,
     "metadata": {},
     "output_type": "execute_result"
    }
   ],
   "source": [
    "test_model(clf_mul, test_mulloader, criterion_mul, device, 100.0, binary=False)"
   ]
  },
  {
   "cell_type": "code",
   "execution_count": 27,
   "id": "5ab21294",
   "metadata": {},
   "outputs": [],
   "source": [
    "from sklearn.metrics import confusion_matrix"
   ]
  },
  {
   "cell_type": "code",
   "execution_count": 28,
   "id": "45bf7b94",
   "metadata": {},
   "outputs": [],
   "source": [
    "pred_m = torch.softmax(get_prediction(clf_mul, test_mulloader, device),dim=1).numpy()\n",
    "predy_m = np.argmax(pred_m,axis=-1)"
   ]
  },
  {
   "cell_type": "code",
   "execution_count": 29,
   "id": "ba857aa1",
   "metadata": {},
   "outputs": [],
   "source": [
    "confusion_mtx = confusion_matrix(ytem, predy_m)"
   ]
  },
  {
   "cell_type": "code",
   "execution_count": 30,
   "id": "19a7e204",
   "metadata": {},
   "outputs": [
    {
     "data": {
      "image/png": "[encoded data removed]",
      "text/plain": [
       "<Figure size 432x288 with 2 Axes>"
      ]
     },
     "metadata": {
      "needs_background": "light"
     },
     "output_type": "display_data"
    }
   ],
   "source": [
    "plot_confusion_matrix(confusion_mtx, classes = range(num_class))"
   ]
  },
  {
   "cell_type": "code",
   "execution_count": null,
   "id": "82071cb9",
   "metadata": {},
   "outputs": [],
   "source": []
  },
  {
   "cell_type": "code",
   "execution_count": null,
   "id": "cff61659",
   "metadata": {},
   "outputs": [],
   "source": []
  },
  {
   "cell_type": "markdown",
   "id": "8cde4c2d",
   "metadata": {},
   "source": [
    "# Test OOC"
   ]
  },
  {
   "cell_type": "code",
   "execution_count": 56,
   "id": "9379ab5b",
   "metadata": {},
   "outputs": [],
   "source": [
    "Xoocbn = cicids17_bn[-1].transform(cicids17_m[-2])\n",
    "ooc_bnloader = make_dataloader(Xoocbn,np.zeros(len(Xoocbn)),batch_size=batch_size, shuffle=True)\n",
    "Xoocm = cicids17_m[-1].transform(cicids17_m[-2])\n",
    "ooc_mulloader = make_dataloader(Xoocm,np.zeros(len(Xoocm)),batch_size=batch_size, shuffle=True)"
   ]
  },
  {
   "cell_type": "markdown",
   "id": "9008339c",
   "metadata": {},
   "source": [
    "## Benign data"
   ]
  },
  {
   "cell_type": "code",
   "execution_count": 60,
   "id": "2355405f",
   "metadata": {},
   "outputs": [
    {
     "data": {
      "image/png": "[encoded data removed]",
      "text/plain": [
       "<Figure size 432x288 with 1 Axes>"
      ]
     },
     "metadata": {
      "needs_background": "light"
     },
     "output_type": "display_data"
    },
    {
     "data": {
      "image/png": "[encoded data removed]",
      "text/plain": [
       "<Figure size 432x288 with 1 Axes>"
      ]
     },
     "metadata": {
      "needs_background": "light"
     },
     "output_type": "display_data"
    }
   ],
   "source": [
    "prob_ooc = torch.softmax(get_prediction(clf_mul, outlier_trloader, device), dim=1)\n",
    "pred_ooc = torch.argmax(prob_ooc, dim=1)\n",
    "\n",
    "plt.hist(pred_ooc.numpy(), bins=num_class, rwidth=0.85)\n",
    "plt.title(\"Benign data prediction\")\n",
    "plt.xticks(range(num_class),lab_name[:ooc_cols]+lab_name[ooc_cols+1:], rotation=90)\n",
    "plt.show()\n",
    "\n",
    "plt.hist(np.max(prob_ooc.numpy(),axis=1))\n",
    "plt.title(\"maximum prediction probability for ooc data\")\n",
    "plt.show()"
   ]
  },
  {
   "cell_type": "markdown",
   "id": "94caa4c7",
   "metadata": {},
   "source": [
    "## OOC data"
   ]
  },
  {
   "cell_type": "code",
   "execution_count": 59,
   "id": "1c68f890",
   "metadata": {},
   "outputs": [
    {
     "data": {
      "image/png": "[encoded data removed]",
      "text/plain": [
       "<Figure size 432x288 with 1 Axes>"
      ]
     },
     "metadata": {
      "needs_background": "light"
     },
     "output_type": "display_data"
    },
    {
     "data": {
      "image/png": "[encoded data removed]",
      "text/plain": [
       "<Figure size 432x288 with 1 Axes>"
      ]
     },
     "metadata": {
      "needs_background": "light"
     },
     "output_type": "display_data"
    }
   ],
   "source": [
    "prob_ooc = torch.softmax(get_prediction(clf_mul, ooc_mulloader, device), dim=1)\n",
    "pred_ooc = torch.argmax(prob_ooc, dim=1)\n",
    "\n",
    "plt.hist(pred_ooc.numpy(), bins=num_class, rwidth=0.85)\n",
    "plt.title(\"%s data prediction\"%(lab_name[ooc_cols]))\n",
    "plt.xticks(range(num_class),lab_name[:ooc_cols]+lab_name[ooc_cols+1:], rotation=90)\n",
    "plt.show()\n",
    "\n",
    "plt.hist(np.max(prob_ooc.numpy(),axis=1))\n",
    "plt.title(\"maximum prediction probability for ooc data\")\n",
    "plt.show()"
   ]
  },
  {
   "cell_type": "code",
   "execution_count": null,
   "id": "289a47e2",
   "metadata": {},
   "outputs": [],
   "source": []
  }
 ],
 "metadata": {
  "kernelspec": {
   "display_name": "torch11.1",
   "language": "python",
   "name": "pytorch111"
  },
  "language_info": {
   "codemirror_mode": {
    "name": "ipython",
    "version": 3
   },
   "file_extension": ".py",
   "mimetype": "text/x-python",
   "name": "python",
   "nbconvert_exporter": "python",
   "pygments_lexer": "ipython3",
   "version": "3.8.6"
  }
 },
 "nbformat": 4,
 "nbformat_minor": 5
}
