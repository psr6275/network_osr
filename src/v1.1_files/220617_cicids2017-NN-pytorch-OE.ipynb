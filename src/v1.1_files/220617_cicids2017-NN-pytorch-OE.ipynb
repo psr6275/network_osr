{
 "cells": [
  {
   "cell_type": "code",
   "execution_count": 1,
   "metadata": {},
   "outputs": [],
   "source": [
    "import numpy as np\n",
    "import os\n",
    "import pickle\n",
    "import torch\n",
    "import torch.nn as nn\n",
    "import torch.optim as optim\n",
    "\n",
    "from torch.utils.data import TensorDataset\n",
    "from torch.utils.data import DataLoader\n",
    "\n",
    "from sklearn.preprocessing import StandardScaler\n",
    "import pandas as pd\n",
    "\n",
    "from utils import *"
   ]
  },
  {
   "cell_type": "code",
   "execution_count": 2,
   "metadata": {},
   "outputs": [],
   "source": [
    "device = torch.device('cuda:0')"
   ]
  },
  {
   "cell_type": "code",
   "execution_count": 3,
   "metadata": {},
   "outputs": [],
   "source": [
    "result_dir = '../results/ids-dataset'\n",
    "batch_size = 256"
   ]
  },
  {
   "cell_type": "code",
   "execution_count": 4,
   "metadata": {},
   "outputs": [],
   "source": [
    "Xtr_, ytr, Xte_,yte,st_scaler_bn = load_cicids_data(dataname=\"2017\",prob_type=\"binary\",\n",
    "                                                  result_dir = result_dir, return_scaler =True)"
   ]
  },
  {
   "cell_type": "code",
   "execution_count": 5,
   "metadata": {},
   "outputs": [],
   "source": [
    "Xtr = st_scaler_bn.transform(Xtr_)\n",
    "Xte = st_scaler_bn.transform(Xte_)\n",
    "train_bnloader = make_dataloader(Xtr,ytr, batch_size = batch_size, shuffle=True)\n",
    "test_bnloader = make_dataloader(Xte,yte, batch_size = batch_size, shuffle=False)"
   ]
  },
  {
   "cell_type": "code",
   "execution_count": 6,
   "metadata": {},
   "outputs": [
    {
     "name": "stdout",
     "output_type": "stream",
     "text": [
      "{'Web Attack \\x96 Brute Force': 0, 'Web Attack \\x96 XSS': 0, 'Web Attack \\x96 Sql Injection': 0, 'DDoS': 1, 'Bot': 2, 'DoS slowloris': 3, 'DoS Slowhttptest': 4, 'DoS Hulk': 5, 'DoS GoldenEye': 6, 'PortScan': 7, 'FTP-Patator': 8, 'SSH-Patator': 9}\n",
      "drop Benign\n",
      "drop Infiltration\n",
      "drop Heartbleed\n",
      "original instances:  1040360\n",
      "drop intances:  751106\n",
      "after drop:  289254\n",
      "drop Benign\n",
      "drop Infiltration\n",
      "drop Heartbleed\n",
      "original instances:  260090\n",
      "drop intances:  187670\n",
      "after drop:  72420\n"
     ]
    }
   ],
   "source": [
    "Xtrm_, ytrm, Xtem_,ytem,st_scaler_mul = load_cicids_data(dataname=\"2017\",prob_type=\"mult\",\n",
    "                                                         result_dir = result_dir, return_scaler =True)"
   ]
  },
  {
   "cell_type": "code",
   "execution_count": 7,
   "metadata": {},
   "outputs": [],
   "source": [
    "Xtrm = st_scaler_mul.transform(Xtrm_)\n",
    "Xtem = st_scaler_mul.transform(Xtem_)\n",
    "train_mulloader = make_dataloader(Xtrm,ytrm.to_numpy().flatten(), batch_size = batch_size, shuffle=True)\n",
    "test_mulloader = make_dataloader(Xtem,ytem.to_numpy().flatten(), batch_size = batch_size, shuffle=False)"
   ]
  },
  {
   "cell_type": "markdown",
   "metadata": {},
   "source": [
    "## 수정 필요! scaling 을 multi-classification 에 맞추어야 함!"
   ]
  },
  {
   "cell_type": "code",
   "execution_count": 8,
   "metadata": {},
   "outputs": [],
   "source": [
    "Xbtr = st_scaler_mul.transform(Xtr_[ytr==0])\n",
    "Xbte = st_scaler_mul.transform(Xte_[yte==0])\n",
    "outlier_trloader = make_dataloader(Xbtr,np.zeros(len(Xbtr)),batch_size=batch_size, shuffle=True)\n",
    "outlier_teloader = make_dataloader(Xbte,np.zeros(len(Xbte)),batch_size=batch_size, shuffle=True)"
   ]
  },
  {
   "cell_type": "code",
   "execution_count": 9,
   "metadata": {},
   "outputs": [
    {
     "name": "stdout",
     "output_type": "stream",
     "text": [
      "{'Web Attack \\x96 Brute Force': 0, 'Web Attack \\x96 XSS': 0, 'Web Attack \\x96 Sql Injection': 0, 'DDoS': 1, 'Bot': 2, 'DoS slowloris': 3, 'DoS Slowhttptest': 4, 'DoS Hulk': 5, 'DoS GoldenEye': 6, 'PortScan': 7, 'FTP-Patator': 8, 'SSH-Patator': 9}\n"
     ]
    }
   ],
   "source": [
    "lab_dic, lab_name = cluster_labels_2017()"
   ]
  },
  {
   "cell_type": "markdown",
   "metadata": {},
   "source": [
    "# binary classification"
   ]
  },
  {
   "cell_type": "code",
   "execution_count": 13,
   "metadata": {},
   "outputs": [],
   "source": [
    "n_features = Xtr.shape[1]\n",
    "clf_bn = BinaryNN(n_features)"
   ]
  },
  {
   "cell_type": "code",
   "execution_count": 12,
   "metadata": {},
   "outputs": [],
   "source": [
    "epochs = 30\n",
    "criterion_bn = nn.BCELoss()\n",
    "optim_bn = optim.Adam(clf_bn.parameters(),lr=0.0001)"
   ]
  },
  {
   "cell_type": "code",
   "execution_count": 19,
   "metadata": {},
   "outputs": [
    {
     "data": {
      "text/plain": [
       "<All keys matched successfully>"
      ]
     },
     "execution_count": 19,
     "metadata": {},
     "output_type": "execute_result"
    }
   ],
   "source": [
    "clf_bn.load_state_dict(torch.load(os.path.join(result_dir, \"cicids17_bn_clf.pth\"),map_location='cpu'))\n",
    "# clf_bn = train_model(clf_bn, train_bnloader, optim_bn, device, criterion_bn, epochs, save_dir = result_dir, \n",
    "#                      save_model = \"cicids17_bn_clf.pth\",binary=True)"
   ]
  },
  {
   "cell_type": "code",
   "execution_count": 18,
   "metadata": {
    "scrolled": true
   },
   "outputs": [
    {
     "data": {
      "text/plain": [
       "(tensor(0.0304), tensor(0.9927), tensor(0.0047))"
      ]
     },
     "execution_count": 18,
     "metadata": {},
     "output_type": "execute_result"
    }
   ],
   "source": [
    "# torch.save(clf_mul,os.path.join(result_dir, \"cicids17_bn_clf.pth\"))\n",
    "test_model(clf_bn, test_bnloader, criterion, device, 100.0, binary=True)"
   ]
  },
  {
   "cell_type": "code",
   "execution_count": 26,
   "metadata": {},
   "outputs": [],
   "source": [
    "from sklearn.metrics import roc_curve, auc\n",
    "\n",
    "predy = get_prediction(clf_bn, test_bnloader, device)\n",
    "testy = test_bnloader.dataset.tensors[1]\n",
    "pos_label = 1 # 1 or 0\n",
    "fpr, tpr, thresholds = roc_curve(testy.numpy(), predy.numpy(), pos_label=pos_label)\n",
    "roc_auc = auc(fpr, tpr)"
   ]
  },
  {
   "cell_type": "code",
   "execution_count": 27,
   "metadata": {},
   "outputs": [
    {
     "data": {
      "image/png": "[encoded data removed]",
      "text/plain": [
       "<Figure size 432x288 with 1 Axes>"
      ]
     },
     "metadata": {
      "needs_background": "light"
     },
     "output_type": "display_data"
    }
   ],
   "source": [
    "import matplotlib.pyplot as plt\n",
    "\n",
    "lw=2\n",
    "plt.figure()\n",
    "plt.plot(fpr, tpr, color=\"darkorange\", lw=lw, label =\"ROC curve (area= %.2f)\"%roc_auc)\n",
    "plt.plot([0,1],[0,1], color = \"navy\", lw=lw, linestyle='--')\n",
    "plt.xlim([0.0, 1.0])\n",
    "plt.ylim([0.0, 1.05])\n",
    "plt.xlabel(\"False Positive Rate\")\n",
    "plt.ylabel(\"True Positive Rate\")\n",
    "plt.title(\"Receiver operating characteristic example\")\n",
    "plt.legend(loc=\"lower right\")\n",
    "plt.show()"
   ]
  },
  {
   "cell_type": "markdown",
   "metadata": {},
   "source": [
    "# multi-class classification"
   ]
  },
  {
   "cell_type": "code",
   "execution_count": 10,
   "metadata": {},
   "outputs": [],
   "source": [
    "num_class = len(np.unique(ytrm))\n",
    "n_features = Xtrm.shape[1]"
   ]
  },
  {
   "cell_type": "code",
   "execution_count": 11,
   "metadata": {},
   "outputs": [],
   "source": [
    "clf_mul = MultNN(n_features, n_hidden=32, num_class=num_class)"
   ]
  },
  {
   "cell_type": "code",
   "execution_count": 12,
   "metadata": {},
   "outputs": [],
   "source": [
    "epochs = 30\n",
    "criterion_mul = nn.CrossEntropyLoss()\n",
    "criterion_oe = nn.KLDivLoss()\n",
    "optim_mul = optim.Adam(clf_mul.parameters(),lr=0.0001)"
   ]
  },
  {
   "cell_type": "code",
   "execution_count": 13,
   "metadata": {},
   "outputs": [
    {
     "name": "stderr",
     "output_type": "stream",
     "text": [
      "/home/saerom/.pyenv/versions/pytorch111/lib/python3.8/site-packages/torch/nn/functional.py:2747: UserWarning: reduction: 'mean' divides the total loss by both the batch size and the support size.'batchmean' divides only by the batch size, and aligns with the KL div math definition.'mean' will be changed to behave the same as 'batchmean' in the next major release.\n",
      "  warnings.warn(\n"
     ]
    },
    {
     "name": "stdout",
     "output_type": "stream",
     "text": [
      "\n",
      "Epoch [1/30]\tLoss 0.9866 (0.6132)\tLoss1/Loss2 0.9486/0.0381\tPrec@1 train 80.027 (21.819)   \t\n",
      "\n",
      "Epoch [2/30]\tLoss 0.2773 (0.0602)\tLoss1/Loss2 0.2346/0.0428\tPrec@1 train 94.612 (1.935)   \t\n",
      "\n",
      "Epoch [3/30]\tLoss 0.1686 (0.0362)\tLoss1/Loss2 0.1309/0.0377\tPrec@1 train 97.862 (1.088)   \t\n",
      "\n",
      "Epoch [4/30]\tLoss 0.1228 (0.0288)\tLoss1/Loss2 0.0889/0.0338\tPrec@1 train 98.575 (0.743)   \t\n",
      "\n",
      "Epoch [5/30]\tLoss 0.0993 (0.0204)\tLoss1/Loss2 0.0686/0.0307\tPrec@1 train 98.761 (0.686)   \t\n",
      "\n",
      "Epoch [6/30]\tLoss 0.0854 (0.0181)\tLoss1/Loss2 0.0569/0.0285\tPrec@1 train 98.953 (0.618)   \t\n",
      "\n",
      "Epoch [7/30]\tLoss 0.0756 (0.0169)\tLoss1/Loss2 0.0493/0.0263\tPrec@1 train 99.116 (0.590)   \t\n",
      "\n",
      "Epoch [8/30]\tLoss 0.0684 (0.0156)\tLoss1/Loss2 0.0438/0.0246\tPrec@1 train 99.157 (0.539)   \t\n",
      "\n",
      "Epoch [9/30]\tLoss 0.0626 (0.0146)\tLoss1/Loss2 0.0396/0.0230\tPrec@1 train 99.201 (0.551)   \t\n",
      "\n",
      "Epoch [10/30]\tLoss 0.0578 (0.0132)\tLoss1/Loss2 0.0360/0.0217\tPrec@1 train 99.320 (0.477)   \t\n",
      "\n",
      "Epoch [11/30]\tLoss 0.0536 (0.0125)\tLoss1/Loss2 0.0331/0.0205\tPrec@1 train 99.448 (0.444)   \t\n",
      "\n",
      "Epoch [12/30]\tLoss 0.0501 (0.0121)\tLoss1/Loss2 0.0308/0.0193\tPrec@1 train 99.531 (0.385)   \t\n",
      "\n",
      "Epoch [13/30]\tLoss 0.0468 (0.0117)\tLoss1/Loss2 0.0288/0.0180\tPrec@1 train 99.550 (0.403)   \t\n",
      "\n",
      "Epoch [14/30]\tLoss 0.0441 (0.0112)\tLoss1/Loss2 0.0271/0.0170\tPrec@1 train 99.627 (0.347)   \t\n",
      "\n",
      "Epoch [15/30]\tLoss 0.0422 (0.0142)\tLoss1/Loss2 0.0256/0.0166\tPrec@1 train 99.694 (0.344)   \t\n",
      "\n",
      "Epoch [16/30]\tLoss 0.0397 (0.0108)\tLoss1/Loss2 0.0243/0.0155\tPrec@1 train 99.739 (0.303)   \t\n",
      "\n",
      "Epoch [17/30]\tLoss 0.0379 (0.0106)\tLoss1/Loss2 0.0232/0.0147\tPrec@1 train 99.758 (0.295)   \t\n",
      "\n",
      "Epoch [18/30]\tLoss 0.0363 (0.0102)\tLoss1/Loss2 0.0221/0.0142\tPrec@1 train 99.767 (0.274)   \t\n",
      "\n",
      "Epoch [19/30]\tLoss 0.0349 (0.0102)\tLoss1/Loss2 0.0212/0.0137\tPrec@1 train 99.772 (0.269)   \t\n",
      "\n",
      "Epoch [20/30]\tLoss 0.0336 (0.0103)\tLoss1/Loss2 0.0204/0.0131\tPrec@1 train 99.773 (0.280)   \t\n",
      "\n",
      "Epoch [21/30]\tLoss 0.0324 (0.0098)\tLoss1/Loss2 0.0197/0.0127\tPrec@1 train 99.777 (0.265)   \t\n",
      "\n",
      "Epoch [22/30]\tLoss 0.0315 (0.0099)\tLoss1/Loss2 0.0191/0.0124\tPrec@1 train 99.777 (0.276)   \t\n",
      "\n",
      "Epoch [23/30]\tLoss 0.0306 (0.0090)\tLoss1/Loss2 0.0185/0.0121\tPrec@1 train 99.777 (0.265)   \t\n",
      "\n",
      "Epoch [24/30]\tLoss 0.0299 (0.0098)\tLoss1/Loss2 0.0180/0.0119\tPrec@1 train 99.783 (0.265)   \t\n",
      "\n",
      "Epoch [25/30]\tLoss 0.0292 (0.0092)\tLoss1/Loss2 0.0175/0.0117\tPrec@1 train 99.786 (0.256)   \t\n",
      "\n",
      "Epoch [26/30]\tLoss 0.0286 (0.0093)\tLoss1/Loss2 0.0171/0.0115\tPrec@1 train 99.788 (0.260)   \t\n",
      "\n",
      "Epoch [27/30]\tLoss 0.0285 (0.0130)\tLoss1/Loss2 0.0167/0.0118\tPrec@1 train 99.794 (0.256)   \t\n",
      "\n",
      "Epoch [28/30]\tLoss 0.0273 (0.0091)\tLoss1/Loss2 0.0163/0.0110\tPrec@1 train 99.794 (0.256)   \t\n",
      "\n",
      "Epoch [29/30]\tLoss 0.0270 (0.0092)\tLoss1/Loss2 0.0160/0.0110\tPrec@1 train 99.801 (0.250)   \t\n",
      "\n",
      "Epoch [30/30]\tLoss 0.0265 (0.0090)\tLoss1/Loss2 0.0157/0.0108\tPrec@1 train 99.807 (0.230)   \t\n"
     ]
    }
   ],
   "source": [
    "clf_mul = train_model_with_oe_KL(clf_mul, train_mulloader, outlier_trloader, num_class, optim_mul, device, \n",
    "                                 criterion_mul, criterion_oe, 1.0,epochs, save_dir = result_dir, \n",
    "                     save_model = \"cicids17_mul_clf_OE.pth\",binary=False)"
   ]
  },
  {
   "cell_type": "code",
   "execution_count": 14,
   "metadata": {},
   "outputs": [
    {
     "data": {
      "text/plain": [
       "(tensor(0.0149), tensor(99.8232), tensor(0.2558))"
      ]
     },
     "execution_count": 14,
     "metadata": {},
     "output_type": "execute_result"
    }
   ],
   "source": [
    "# clf_mul.load_state_dict(torch.load(os.path.join(result_dir, \"cicids17_mul_clf_LS.pth\"),map_location='cpu'))\n",
    "test_model(clf_mul, test_mulloader, criterion_mul, device, 100.0, binary=False)"
   ]
  },
  {
   "cell_type": "markdown",
   "metadata": {},
   "source": [
    "# evaluate multi-class model"
   ]
  },
  {
   "cell_type": "code",
   "execution_count": 15,
   "metadata": {},
   "outputs": [],
   "source": [
    "from sklearn.metrics import confusion_matrix"
   ]
  },
  {
   "cell_type": "code",
   "execution_count": 16,
   "metadata": {},
   "outputs": [],
   "source": [
    "pred_m = torch.softmax(get_prediction(clf_mul, test_mulloader, device),dim=1).numpy()\n",
    "predy_m = np.argmax(pred_m,axis=-1)"
   ]
  },
  {
   "cell_type": "code",
   "execution_count": 17,
   "metadata": {},
   "outputs": [],
   "source": [
    "confusion_mtx = confusion_matrix(ytem, predy_m)"
   ]
  },
  {
   "cell_type": "code",
   "execution_count": 18,
   "metadata": {},
   "outputs": [
    {
     "data": {
      "image/png": "[encoded data removed]",
      "text/plain": [
       "<Figure size 432x288 with 2 Axes>"
      ]
     },
     "metadata": {
      "needs_background": "light"
     },
     "output_type": "display_data"
    }
   ],
   "source": [
    "plot_confusion_matrix(confusion_mtx, classes = range(10))"
   ]
  },
  {
   "cell_type": "code",
   "execution_count": 19,
   "metadata": {},
   "outputs": [
    {
     "data": {
      "image/png": "[encoded data removed]",
      "text/plain": [
       "<Figure size 432x288 with 1 Axes>"
      ]
     },
     "metadata": {
      "needs_background": "light"
     },
     "output_type": "display_data"
    }
   ],
   "source": [
    "plt.hist(np.max(pred_m,axis=1))\n",
    "plt.title(\"confidence for in-distribution data\")\n",
    "plt.show()"
   ]
  },
  {
   "cell_type": "code",
   "execution_count": 20,
   "metadata": {},
   "outputs": [
    {
     "data": {
      "image/png": "[encoded data removed]",
      "text/plain": [
       "<Figure size 432x288 with 1 Axes>"
      ]
     },
     "metadata": {
      "needs_background": "light"
     },
     "output_type": "display_data"
    }
   ],
   "source": [
    "plt.scatter(predy_m,np.max(pred_m,axis=1))\n",
    "plt.show()"
   ]
  },
  {
   "cell_type": "code",
   "execution_count": 21,
   "metadata": {},
   "outputs": [],
   "source": [
    "prob_ooc = torch.softmax(get_prediction(clf_mul, outlier_trloader, device), dim=1)\n",
    "pred_ooc = torch.argmax(prob_ooc, dim=1)"
   ]
  },
  {
   "cell_type": "code",
   "execution_count": 22,
   "metadata": {},
   "outputs": [
    {
     "name": "stdout",
     "output_type": "stream",
     "text": [
      "{'Web Attack \\x96 Brute Force': 0, 'Web Attack \\x96 XSS': 0, 'Web Attack \\x96 Sql Injection': 0, 'DDoS': 1, 'Bot': 2, 'DoS slowloris': 3, 'DoS Slowhttptest': 4, 'DoS Hulk': 5, 'DoS GoldenEye': 6, 'PortScan': 7, 'FTP-Patator': 8, 'SSH-Patator': 9}\n"
     ]
    }
   ],
   "source": [
    "lab_dic17, lab_name17 = cluster_labels_2017()"
   ]
  },
  {
   "cell_type": "code",
   "execution_count": 23,
   "metadata": {},
   "outputs": [
    {
     "data": {
      "image/png": "[encoded data removed]",
      "text/plain": [
       "<Figure size 432x288 with 1 Axes>"
      ]
     },
     "metadata": {
      "needs_background": "light"
     },
     "output_type": "display_data"
    }
   ],
   "source": [
    "plt.hist(pred_ooc.numpy())\n",
    "plt.title(\"Benign data prediction\")\n",
    "plt.xticks(range(10),lab_name17, rotation=90)\n",
    "plt.show()"
   ]
  },
  {
   "cell_type": "code",
   "execution_count": 24,
   "metadata": {},
   "outputs": [
    {
     "data": {
      "image/png": "[encoded data removed]",
      "text/plain": [
       "<Figure size 432x288 with 1 Axes>"
      ]
     },
     "metadata": {
      "needs_background": "light"
     },
     "output_type": "display_data"
    }
   ],
   "source": [
    "plt.hist(np.max(prob_ooc.numpy(),axis=1))\n",
    "plt.title(\"maximum prediction probability for ooc data\")\n",
    "plt.show()"
   ]
  },
  {
   "cell_type": "code",
   "execution_count": 25,
   "metadata": {},
   "outputs": [
    {
     "data": {
      "image/png": "[encoded data removed]",
      "text/plain": [
       "<Figure size 432x288 with 1 Axes>"
      ]
     },
     "metadata": {
      "needs_background": "light"
     },
     "output_type": "display_data"
    }
   ],
   "source": [
    "plt.scatter(pred_ooc,np.max(prob_ooc.numpy(),axis=1),)\n",
    "plt.show()"
   ]
  },
  {
   "cell_type": "code",
   "execution_count": null,
   "metadata": {},
   "outputs": [],
   "source": []
  }
 ],
 "metadata": {
  "kernelspec": {
   "display_name": "torch11.1",
   "language": "python",
   "name": "pytorch111"
  },
  "language_info": {
   "codemirror_mode": {
    "name": "ipython",
    "version": 3
   },
   "file_extension": ".py",
   "mimetype": "text/x-python",
   "name": "python",
   "nbconvert_exporter": "python",
   "pygments_lexer": "ipython3",
   "version": "3.8.6"
  }
 },
 "nbformat": 4,
 "nbformat_minor": 4
}
