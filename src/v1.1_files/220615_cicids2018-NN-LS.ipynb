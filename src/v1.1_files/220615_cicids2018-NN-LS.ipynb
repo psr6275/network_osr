{
 "cells": [
  {
   "cell_type": "code",
   "execution_count": 16,
   "metadata": {},
   "outputs": [],
   "source": [
    "import pandas as pd\n",
    "import os\n",
    "from keras.models import Sequential \n",
    "from keras.layers import Dense, Activation\n",
    "import matplotlib.pyplot as plt"
   ]
  },
  {
   "cell_type": "code",
   "execution_count": 3,
   "metadata": {},
   "outputs": [],
   "source": [
    "result_dir = '../results/ids-dataset'"
   ]
  },
  {
   "cell_type": "code",
   "execution_count": 4,
   "metadata": {},
   "outputs": [],
   "source": [
    "train_df = pd.read_parquet(os.path.join(result_dir,\"cicids2018_traindf.parquet\"))\n",
    "test_df = pd.read_parquet(os.path.join(result_dir,\"cicids2018_testdf.parquet\"))"
   ]
  },
  {
   "cell_type": "code",
   "execution_count": 5,
   "metadata": {},
   "outputs": [
    {
     "name": "stderr",
     "output_type": "stream",
     "text": [
      "2022-06-15 07:29:57.642013: I tensorflow/core/util/util.cc:169] oneDNN custom operations are on. You may see slightly different numerical results due to floating-point round-off errors from different computation orders. To turn them off, set the environment variable `TF_ENABLE_ONEDNN_OPTS=0`.\n"
     ]
    }
   ],
   "source": [
    "from utils import *"
   ]
  },
  {
   "cell_type": "code",
   "execution_count": 6,
   "metadata": {},
   "outputs": [],
   "source": [
    "train_df_bn = set_binary_label(train_df,label_col='Label', default_class='Benign',return_col=False)\n",
    "test_df_bn = set_binary_label(test_df,label_col='Label', default_class='Benign',return_col=False)"
   ]
  },
  {
   "cell_type": "code",
   "execution_count": 7,
   "metadata": {},
   "outputs": [
    {
     "name": "stdout",
     "output_type": "stream",
     "text": [
      "{'Brute Force -Web': 0, 'Brute Force -XSS': 0, 'SQL Injection': 0, 'DoS attacks-Hulk': 1, 'DoS attacks-GoldenEye': 2, 'DoS attacks-Slowloris': 3, 'Bot': 4, 'DDoS attacks-LOIC-HTTP': 5, 'DDOS attack-HOIC': 6, 'Infilteration': 7, 'FTP-BruteForce': 8, 'SSH-Bruteforce': 9}\n"
     ]
    }
   ],
   "source": [
    "lab_dic, lab_name = cluster_labels_2018()"
   ]
  },
  {
   "cell_type": "code",
   "execution_count": 8,
   "metadata": {},
   "outputs": [
    {
     "name": "stdout",
     "output_type": "stream",
     "text": [
      "drop Benign\n",
      "drop DoS attacks-SlowHTTPTest\n",
      "original instances:  5971201\n",
      "drop intances:  5310540\n",
      "after drop:  660661\n",
      "drop Benign\n",
      "drop DoS attacks-SlowHTTPTest\n",
      "original instances:  1492801\n",
      "drop intances:  1327411\n",
      "after drop:  165390\n"
     ]
    }
   ],
   "source": [
    "train_mul= set_multiple_label(train_df,label_col='Label', label_dic = lab_dic, return_col=False)\n",
    "test_mul = set_multiple_label(test_df,label_col='Label', label_dic = lab_dic, return_col=False)"
   ]
  },
  {
   "cell_type": "markdown",
   "metadata": {},
   "source": [
    "# binary classification"
   ]
  },
  {
   "cell_type": "code",
   "execution_count": 9,
   "metadata": {},
   "outputs": [],
   "source": [
    "from tensorflow import keras"
   ]
  },
  {
   "cell_type": "code",
   "execution_count": 10,
   "metadata": {},
   "outputs": [],
   "source": [
    "from sklearn.preprocessing import StandardScaler"
   ]
  },
  {
   "cell_type": "code",
   "execution_count": 11,
   "metadata": {},
   "outputs": [],
   "source": [
    "st_scaler_bn = StandardScaler()"
   ]
  },
  {
   "cell_type": "code",
   "execution_count": 12,
   "metadata": {},
   "outputs": [],
   "source": [
    "trainx = train_df_bn.loc[:,train_df.columns!='Label']\n",
    "trainy = train_df_bn['Label']\n",
    "testx = test_df_bn.loc[:,test_df.columns!='Label']\n",
    "testy = test_df_bn['Label']"
   ]
  },
  {
   "cell_type": "code",
   "execution_count": 13,
   "metadata": {},
   "outputs": [
    {
     "data": {
      "text/plain": [
       "(5971201, 67)"
      ]
     },
     "execution_count": 13,
     "metadata": {},
     "output_type": "execute_result"
    }
   ],
   "source": [
    "trainx.shape"
   ]
  },
  {
   "cell_type": "code",
   "execution_count": 14,
   "metadata": {},
   "outputs": [],
   "source": [
    "trainx_st = st_scaler_bn.fit_transform(trainx)\n",
    "testx_st = st_scaler_bn.transform(testx)"
   ]
  },
  {
   "cell_type": "markdown",
   "metadata": {},
   "source": [
    "# Train DNN model for Binary Classification"
   ]
  },
  {
   "cell_type": "code",
   "execution_count": 14,
   "metadata": {},
   "outputs": [],
   "source": [
    "from keras.models import Sequential \n",
    "from keras.layers import Dense, Activation"
   ]
  },
  {
   "cell_type": "code",
   "execution_count": null,
   "metadata": {},
   "outputs": [],
   "source": [
    "clf_bn = Sequential([\n",
    "    Dense(32, input_shape =(67,) ,activation=\"relu\"),\n",
    "    Dense(1, activation='sigmoid')\n",
    "])"
   ]
  },
  {
   "cell_type": "code",
   "execution_count": 16,
   "metadata": {},
   "outputs": [
    {
     "name": "stdout",
     "output_type": "stream",
     "text": [
      "Epoch 1/20\n",
      "   29/46651 [..............................] - ETA: 4:26 - loss: 0.3858 - accuracy: 0.8710"
     ]
    },
    {
     "name": "stderr",
     "output_type": "stream",
     "text": [
      "2022-06-02 06:34:12.934351: I tensorflow/stream_executor/cuda/cuda_blas.cc:1786] TensorFloat-32 will be used for the matrix multiplication. This will only be logged once.\n"
     ]
    },
    {
     "name": "stdout",
     "output_type": "stream",
     "text": [
      "46651/46651 [==============================] - 261s 6ms/step - loss: 0.0611 - accuracy: 0.9887\n",
      "Epoch 2/20\n",
      "46651/46651 [==============================] - 261s 6ms/step - loss: 0.0696 - accuracy: 0.9892\n",
      "Epoch 3/20\n",
      "46651/46651 [==============================] - 261s 6ms/step - loss: 0.0728 - accuracy: 0.9893\n",
      "Epoch 4/20\n",
      "46651/46651 [==============================] - 262s 6ms/step - loss: 0.0685 - accuracy: 0.9893\n",
      "Epoch 5/20\n",
      "46651/46651 [==============================] - 263s 6ms/step - loss: 0.0646 - accuracy: 0.9892\n",
      "Epoch 6/20\n",
      "46651/46651 [==============================] - 264s 6ms/step - loss: 0.0762 - accuracy: 0.9891\n",
      "Epoch 7/20\n",
      "46651/46651 [==============================] - 262s 6ms/step - loss: 0.0783 - accuracy: 0.9890\n",
      "Epoch 8/20\n",
      "46651/46651 [==============================] - 262s 6ms/step - loss: 0.0728 - accuracy: 0.9890\n",
      "Epoch 9/20\n",
      "46651/46651 [==============================] - 266s 6ms/step - loss: 0.0720 - accuracy: 0.9889\n",
      "Epoch 10/20\n",
      "46651/46651 [==============================] - 264s 6ms/step - loss: 0.0723 - accuracy: 0.9889\n",
      "Epoch 11/20\n",
      "46651/46651 [==============================] - 263s 6ms/step - loss: 0.0755 - accuracy: 0.9890\n",
      "Epoch 12/20\n",
      "46651/46651 [==============================] - 262s 6ms/step - loss: 0.0803 - accuracy: 0.9890\n",
      "Epoch 13/20\n",
      "46651/46651 [==============================] - 262s 6ms/step - loss: 0.0776 - accuracy: 0.9890\n",
      "Epoch 14/20\n",
      "46651/46651 [==============================] - 260s 6ms/step - loss: 0.0758 - accuracy: 0.9890\n",
      "Epoch 15/20\n",
      "46651/46651 [==============================] - 264s 6ms/step - loss: 0.0742 - accuracy: 0.9890\n",
      "Epoch 16/20\n",
      "46651/46651 [==============================] - 261s 6ms/step - loss: 0.0745 - accuracy: 0.9889\n",
      "Epoch 17/20\n",
      "46651/46651 [==============================] - 267s 6ms/step - loss: 0.0741 - accuracy: 0.9890\n",
      "Epoch 18/20\n",
      "46651/46651 [==============================] - 260s 6ms/step - loss: 0.0665 - accuracy: 0.9890\n",
      "Epoch 19/20\n",
      "46651/46651 [==============================] - 260s 6ms/step - loss: 0.0671 - accuracy: 0.9890\n",
      "Epoch 20/20\n",
      "46651/46651 [==============================] - 263s 6ms/step - loss: 0.0684 - accuracy: 0.9889\n"
     ]
    },
    {
     "data": {
      "text/plain": [
       "<keras.callbacks.History at 0x7f8a88642fa0>"
      ]
     },
     "execution_count": 16,
     "metadata": {},
     "output_type": "execute_result"
    }
   ],
   "source": [
    "clf_bn.compile(optimizer=\"rmsprop\", loss='binary_crossentropy', metrics=['accuracy'])\n",
    "clf_bn.fit(trainx_st,trainy,epochs=20, batch_size=256)"
   ]
  },
  {
   "cell_type": "code",
   "execution_count": 17,
   "metadata": {},
   "outputs": [
    {
     "name": "stdout",
     "output_type": "stream",
     "text": [
      "5832/5832 [==============================] - 24s 4ms/step - loss: 0.0761 - accuracy: 0.9893\n",
      "[0.07607167214155197, 0.9892517328262329]\n"
     ]
    }
   ],
   "source": [
    "score = clf_bn.evaluate(testx_st,testy, batch_size=256)\n",
    "print(score)"
   ]
  },
  {
   "cell_type": "markdown",
   "metadata": {},
   "source": [
    "## model save"
   ]
  },
  {
   "cell_type": "code",
   "execution_count": 18,
   "metadata": {},
   "outputs": [
    {
     "name": "stdout",
     "output_type": "stream",
     "text": [
      "INFO:tensorflow:Assets written to: ../results/ids-dataset/cicids2018_nn_binary/assets\n"
     ]
    }
   ],
   "source": [
    "clf_bn.save(os.path.join(result_dir,\"cicids2018_nn_binary\"))"
   ]
  },
  {
   "cell_type": "code",
   "execution_count": 33,
   "metadata": {},
   "outputs": [],
   "source": [
    "from sklearn.metrics import roc_curve, auc\n",
    "\n",
    "predy = clf_bn(testx_st).numpy()\n",
    "pos_label = 1 # 1 or 0\n",
    "fpr, tpr, thresholds = roc_curve(testy.values, predy, pos_label=pos_label)\n",
    "roc_auc = auc(fpr, tpr)"
   ]
  },
  {
   "cell_type": "code",
   "execution_count": 34,
   "metadata": {},
   "outputs": [
    {
     "data": {
      "image/png": "[encoded data removed]",
      "text/plain": [
       "<Figure size 432x288 with 1 Axes>"
      ]
     },
     "metadata": {
      "needs_background": "light"
     },
     "output_type": "display_data"
    }
   ],
   "source": [
    "import matplotlib.pyplot as plt\n",
    "\n",
    "lw=2\n",
    "plt.figure()\n",
    "plt.plot(fpr, tpr, color=\"darkorange\", lw=lw, label =\"ROC curve (area= %.2f)\"%roc_auc)\n",
    "plt.plot([0,1],[0,1], color = \"navy\", lw=lw, linestyle='--')\n",
    "plt.xlim([0.0, 1.0])\n",
    "plt.ylim([0.0, 1.05])\n",
    "plt.xlabel(\"False Positive Rate\")\n",
    "plt.ylabel(\"True Positive Rate\")\n",
    "plt.title(\"Receiver operating characteristic example\")\n",
    "plt.legend(loc=\"lower right\")\n",
    "plt.show()"
   ]
  },
  {
   "cell_type": "markdown",
   "metadata": {},
   "source": [
    "# multi-class classification"
   ]
  },
  {
   "cell_type": "code",
   "execution_count": 18,
   "metadata": {},
   "outputs": [
    {
     "name": "stdout",
     "output_type": "stream",
     "text": [
      "{'Brute Force -Web': 0, 'Brute Force -XSS': 0, 'SQL Injection': 0, 'DoS attacks-Hulk': 1, 'DoS attacks-GoldenEye': 2, 'DoS attacks-Slowloris': 3, 'Bot': 4, 'DDoS attacks-LOIC-HTTP': 5, 'DDOS attack-HOIC': 6, 'Infilteration': 7, 'FTP-BruteForce': 8, 'SSH-Bruteforce': 9}\n"
     ]
    }
   ],
   "source": [
    "lab_dic18, lab_name18 = cluster_labels_2018()"
   ]
  },
  {
   "cell_type": "code",
   "execution_count": 19,
   "metadata": {},
   "outputs": [
    {
     "data": {
      "image/png": "[encoded data removed]",
      "text/plain": [
       "<Figure size 432x288 with 1 Axes>"
      ]
     },
     "metadata": {
      "needs_background": "light"
     },
     "output_type": "display_data"
    },
    {
     "data": {
      "image/png": "[encoded data removed]",
      "text/plain": [
       "<Figure size 432x288 with 1 Axes>"
      ]
     },
     "metadata": {
      "needs_background": "light"
     },
     "output_type": "display_data"
    }
   ],
   "source": [
    "import matplotlib.pyplot as plt\n",
    "train_mul['Label'].value_counts().plot(kind='bar')\n",
    "plt.xticks(range(10),lab_name18, rotation=90)\n",
    "plt.show()\n",
    "test_mul['Label'].value_counts().plot(kind='bar')\n",
    "plt.xticks(range(10),lab_name18, rotation=90)\n",
    "plt.show()"
   ]
  },
  {
   "cell_type": "code",
   "execution_count": 20,
   "metadata": {},
   "outputs": [],
   "source": [
    "trainx_m = train_mul.loc[:,train_mul.columns!='Label']\n",
    "trainy_m = train_mul['Label']\n",
    "testx_m = test_mul.loc[:,test_mul.columns!='Label']\n",
    "testy_m = test_mul['Label']"
   ]
  },
  {
   "cell_type": "code",
   "execution_count": 29,
   "metadata": {},
   "outputs": [],
   "source": [
    "num_class = len(np.unique(testy_m))"
   ]
  },
  {
   "cell_type": "code",
   "execution_count": 22,
   "metadata": {},
   "outputs": [],
   "source": [
    "st_scaler_mul = StandardScaler()"
   ]
  },
  {
   "cell_type": "code",
   "execution_count": 23,
   "metadata": {},
   "outputs": [],
   "source": [
    "trainx_m_st = st_scaler_mul.fit_transform(trainx_m)\n",
    "testx_m_st = st_scaler_mul.transform(testx_m)"
   ]
  },
  {
   "cell_type": "code",
   "execution_count": 24,
   "metadata": {},
   "outputs": [],
   "source": [
    "from keras.utils import to_categorical"
   ]
  },
  {
   "cell_type": "code",
   "execution_count": 25,
   "metadata": {},
   "outputs": [],
   "source": [
    "trainy_mc = to_categorical(trainy_m)\n",
    "testy_mc = to_categorical(testy_m)"
   ]
  },
  {
   "cell_type": "code",
   "execution_count": 1,
   "metadata": {},
   "outputs": [],
   "source": [
    "clf_mul = Sequential([\n",
    "    Dense(32, input_shape =(67,) ,activation=\"relu\"),\n",
    "    Dense(num_class, activation='softmax')\n",
    "])"
   ]
  },
  {
   "cell_type": "code",
   "execution_count": 27,
   "metadata": {},
   "outputs": [],
   "source": [
    "from tensorflow.keras import losses\n",
    "loss_fn = losses.CategoricalCrossentropy(label_smoothing=0.09)"
   ]
  },
  {
   "cell_type": "code",
   "execution_count": 28,
   "metadata": {},
   "outputs": [
    {
     "name": "stdout",
     "output_type": "stream",
     "text": [
      "Epoch 1/20\n",
      "  35/2581 [..............................] - ETA: 12s - loss: 1.8697 - accuracy: 0.5562"
     ]
    },
    {
     "name": "stderr",
     "output_type": "stream",
     "text": [
      "2022-06-15 07:31:33.478428: I tensorflow/stream_executor/cuda/cuda_blas.cc:1786] TensorFloat-32 will be used for the matrix multiplication. This will only be logged once.\n"
     ]
    },
    {
     "name": "stdout",
     "output_type": "stream",
     "text": [
      "2581/2581 [==============================] - 14s 5ms/step - loss: 0.5016 - accuracy: 0.9903\n",
      "Epoch 2/20\n",
      "2581/2581 [==============================] - 13s 5ms/step - loss: 0.4632 - accuracy: 0.9992\n",
      "Epoch 3/20\n",
      "2581/2581 [==============================] - 13s 5ms/step - loss: 0.4622 - accuracy: 0.9994\n",
      "Epoch 4/20\n",
      "2581/2581 [==============================] - 13s 5ms/step - loss: 0.4619 - accuracy: 0.9995\n",
      "Epoch 5/20\n",
      "2581/2581 [==============================] - 13s 5ms/step - loss: 0.4616 - accuracy: 0.9995\n",
      "Epoch 6/20\n",
      "2581/2581 [==============================] - 13s 5ms/step - loss: 0.4615 - accuracy: 0.9996\n",
      "Epoch 7/20\n",
      "2581/2581 [==============================] - 13s 5ms/step - loss: 0.4615 - accuracy: 0.9996\n",
      "Epoch 8/20\n",
      "2581/2581 [==============================] - 13s 5ms/step - loss: 0.4613 - accuracy: 0.9996\n",
      "Epoch 9/20\n",
      "2581/2581 [==============================] - 13s 5ms/step - loss: 0.4613 - accuracy: 0.9996\n",
      "Epoch 10/20\n",
      "2581/2581 [==============================] - 13s 5ms/step - loss: 0.4613 - accuracy: 0.9996\n",
      "Epoch 11/20\n",
      "2581/2581 [==============================] - 13s 5ms/step - loss: 0.4613 - accuracy: 0.9996\n",
      "Epoch 12/20\n",
      "2581/2581 [==============================] - 13s 5ms/step - loss: 0.4612 - accuracy: 0.9996\n",
      "Epoch 13/20\n",
      "2581/2581 [==============================] - 13s 5ms/step - loss: 0.4612 - accuracy: 0.9996\n",
      "Epoch 14/20\n",
      "2581/2581 [==============================] - 13s 5ms/step - loss: 0.4612 - accuracy: 0.9996\n",
      "Epoch 15/20\n",
      "2581/2581 [==============================] - 13s 5ms/step - loss: 0.4612 - accuracy: 0.9996\n",
      "Epoch 16/20\n",
      "2581/2581 [==============================] - 13s 5ms/step - loss: 0.4612 - accuracy: 0.9996\n",
      "Epoch 17/20\n",
      "2581/2581 [==============================] - 13s 5ms/step - loss: 0.4611 - accuracy: 0.9996\n",
      "Epoch 18/20\n",
      "2581/2581 [==============================] - 13s 5ms/step - loss: 0.4612 - accuracy: 0.9996\n",
      "Epoch 19/20\n",
      "2581/2581 [==============================] - 13s 5ms/step - loss: 0.4612 - accuracy: 0.9996\n",
      "Epoch 20/20\n",
      "2581/2581 [==============================] - 13s 5ms/step - loss: 0.4612 - accuracy: 0.9996\n"
     ]
    },
    {
     "data": {
      "text/plain": [
       "<keras.callbacks.History at 0x7faf8c3e79a0>"
      ]
     },
     "execution_count": 28,
     "metadata": {},
     "output_type": "execute_result"
    }
   ],
   "source": [
    "clf_mul.compile(optimizer=\"rmsprop\", loss=loss_fn, metrics=['accuracy'])\n",
    "clf_mul.fit(trainx_m_st,trainy_mc,epochs=20, batch_size=256)"
   ]
  },
  {
   "cell_type": "code",
   "execution_count": 30,
   "metadata": {},
   "outputs": [
    {
     "name": "stdout",
     "output_type": "stream",
     "text": [
      "647/647 [==============================] - 3s 4ms/step - loss: 0.4660 - accuracy: 0.9996\n",
      "[0.46598169207572937, 0.9995525479316711]\n"
     ]
    }
   ],
   "source": [
    "score_m = clf_mul.evaluate(testx_m_st,testy_mc, batch_size=256)\n",
    "print(score_m)"
   ]
  },
  {
   "cell_type": "markdown",
   "metadata": {},
   "source": [
    "## model save"
   ]
  },
  {
   "cell_type": "code",
   "execution_count": 31,
   "metadata": {},
   "outputs": [
    {
     "name": "stdout",
     "output_type": "stream",
     "text": [
      "INFO:tensorflow:Assets written to: ../results/ids-dataset/cicids2018_nn_mult_LS/assets\n"
     ]
    }
   ],
   "source": [
    "clf_mul.save(os.path.join(result_dir,\"cicids2018_nn_mult_LS\"))"
   ]
  },
  {
   "cell_type": "code",
   "execution_count": 47,
   "metadata": {},
   "outputs": [
    {
     "name": "stdout",
     "output_type": "stream",
     "text": [
      "2264/2264 [==============================] - 2s 786us/step\n"
     ]
    },
    {
     "data": {
      "text/plain": [
       "array([[1.25529739e-20, 1.33731443e-10, 3.17639430e-37, ...,\n",
       "        0.00000000e+00, 0.00000000e+00, 0.00000000e+00],\n",
       "       [1.27417985e-21, 9.16151048e-16, 1.95654193e-34, ...,\n",
       "        0.00000000e+00, 0.00000000e+00, 0.00000000e+00],\n",
       "       [2.94646599e-11, 9.60154197e-17, 6.31389385e-11, ...,\n",
       "        1.00000000e+00, 1.28442679e-08, 4.32760672e-09],\n",
       "       ...,\n",
       "       [6.34147310e-15, 7.24045503e-06, 4.58907259e-08, ...,\n",
       "        9.99992728e-01, 2.44009279e-09, 1.64337688e-09],\n",
       "       [1.35369782e-14, 3.83661489e-17, 3.13073097e-18, ...,\n",
       "        3.09970383e-10, 9.99998331e-01, 1.69053726e-06],\n",
       "       [4.21196937e-24, 1.00000000e+00, 1.68402506e-30, ...,\n",
       "        0.00000000e+00, 0.00000000e+00, 1.09677095e-35]], dtype=float32)"
      ]
     },
     "execution_count": 47,
     "metadata": {},
     "output_type": "execute_result"
    }
   ],
   "source": [
    "clf_mul.predict(testx_m_st)"
   ]
  },
  {
   "cell_type": "code",
   "execution_count": 73,
   "metadata": {},
   "outputs": [],
   "source": [
    "def apply_nn_clf_with_scaler(clf, scaler, df_x, prob=True):\n",
    "    df_x_st = scaler.transform(df_x)\n",
    "    preds = clf.predict(df_x_st)\n",
    "    if prob:\n",
    "        return preds\n",
    "    else:        \n",
    "        if preds.shape[1]==1:\n",
    "            return np.argmax(preds>0.5).astype(\"int32\")\n",
    "        else:\n",
    "            return np.argmax(preds, axis=-1)\n",
    "def score_nn_clf_with_scaler(clf, scaler, df_x, df_y, binary=True):\n",
    "    df_x_st = scaler.transform(df_x)\n",
    "    if binary:\n",
    "        y = df_y.values\n",
    "    else:\n",
    "        y = to_categorical(df_y.values)\n",
    "    score = clf.evaluate(df_x_st.values,y, batch_size=256)\n",
    "    return score"
   ]
  },
  {
   "cell_type": "markdown",
   "metadata": {},
   "source": [
    "# evaluate multi-class model"
   ]
  },
  {
   "cell_type": "code",
   "execution_count": 50,
   "metadata": {},
   "outputs": [],
   "source": [
    "from sklearn.metrics import confusion_matrix"
   ]
  },
  {
   "cell_type": "code",
   "execution_count": 53,
   "metadata": {},
   "outputs": [
    {
     "name": "stdout",
     "output_type": "stream",
     "text": [
      "2264/2264 [==============================] - 6s 3ms/step\n"
     ]
    }
   ],
   "source": [
    "pred_m = clf_mul.predict(testx_m_st)\n",
    "predy_m = np.argmax(pred_m,axis=-1)"
   ]
  },
  {
   "cell_type": "code",
   "execution_count": 64,
   "metadata": {},
   "outputs": [],
   "source": [
    "confusion_mtx = confusion_matrix(testy_m, predy_m)"
   ]
  },
  {
   "cell_type": "code",
   "execution_count": 65,
   "metadata": {},
   "outputs": [
    {
     "data": {
      "image/png": "[encoded data removed]",
      "text/plain": [
       "<Figure size 432x288 with 2 Axes>"
      ]
     },
     "metadata": {
      "needs_background": "light"
     },
     "output_type": "display_data"
    }
   ],
   "source": [
    "plot_confusion_matrix(confusion_mtx, classes = range(10))"
   ]
  },
  {
   "cell_type": "code",
   "execution_count": 67,
   "metadata": {},
   "outputs": [
    {
     "data": {
      "image/png": "[encoded data removed]",
      "text/plain": [
       "<Figure size 432x288 with 1 Axes>"
      ]
     },
     "metadata": {
      "needs_background": "light"
     },
     "output_type": "display_data"
    }
   ],
   "source": [
    "plt.hist(np.max(pred_m,axis=1))\n",
    "plt.title(\"confidence for in-distribution data\")\n",
    "plt.show()"
   ]
  },
  {
   "cell_type": "code",
   "execution_count": 69,
   "metadata": {},
   "outputs": [
    {
     "data": {
      "image/png": "[encoded data removed]",
      "text/plain": [
       "<Figure size 432x288 with 1 Axes>"
      ]
     },
     "metadata": {
      "needs_background": "light"
     },
     "output_type": "display_data"
    }
   ],
   "source": [
    "plt.scatter(predy_m,np.max(pred_m,axis=1))\n",
    "plt.show()"
   ]
  },
  {
   "cell_type": "code",
   "execution_count": 55,
   "metadata": {},
   "outputs": [
    {
     "data": {
      "text/plain": [
       "{'Brute Force -Web': 0,\n",
       " 'Brute Force -XSS': 0,\n",
       " 'SQL Injection': 0,\n",
       " 'DoS attacks-Hulk': 1,\n",
       " 'DoS attacks-GoldenEye': 2,\n",
       " 'DoS attacks-Slowloris': 3,\n",
       " 'Bot': 4,\n",
       " 'DDoS attacks-LOIC-HTTP': 5,\n",
       " 'DDOS attack-HOIC': 6,\n",
       " 'Infilteration': 7,\n",
       " 'FTP-BruteForce': 8,\n",
       " 'SSH-Bruteforce': 9}"
      ]
     },
     "execution_count": 55,
     "metadata": {},
     "output_type": "execute_result"
    }
   ],
   "source": [
    "lab_dic"
   ]
  },
  {
   "cell_type": "code",
   "execution_count": 53,
   "metadata": {},
   "outputs": [],
   "source": [
    "ooc_col = 'Bot' # 'SSH-Patator', 'Heartbleed', 'Benign', 'Infiltration'\n",
    "ooc_idx = (train_df['Label']==ooc_col)\n",
    "train_ooc = train_df.loc[ooc_idx]\n",
    "train_ooc = train_ooc.loc[:,train_ooc.columns!='Label']"
   ]
  },
  {
   "cell_type": "code",
   "execution_count": 54,
   "metadata": {},
   "outputs": [
    {
     "data": {
      "text/plain": [
       "(114233, 67)"
      ]
     },
     "execution_count": 54,
     "metadata": {},
     "output_type": "execute_result"
    }
   ],
   "source": [
    "train_ooc.shape"
   ]
  },
  {
   "cell_type": "code",
   "execution_count": 38,
   "metadata": {},
   "outputs": [],
   "source": [
    "# clf_mul18 = keras.models.load_model(os.path.join(result_dir,\"cicids2018_nn_mult\"))"
   ]
  },
  {
   "cell_type": "code",
   "execution_count": 59,
   "metadata": {},
   "outputs": [
    {
     "name": "stdout",
     "output_type": "stream",
     "text": [
      "32/32 [==============================] - 0s 1ms/step\n",
      "32/32 [==============================] - 0s 2ms/step\n"
     ]
    }
   ],
   "source": [
    "pred_ooc = apply_nn_clf_with_scaler(clf_mul, st_scaler_mul, train_ooc[:1000], prob = False)\n",
    "prob_ooc = apply_nn_clf_with_scaler(clf_mul, st_scaler_mul, train_ooc[:1000], prob = True)"
   ]
  },
  {
   "cell_type": "code",
   "execution_count": 60,
   "metadata": {},
   "outputs": [
    {
     "data": {
      "image/png": "[encoded data removed]",
      "text/plain": [
       "<Figure size 432x288 with 1 Axes>"
      ]
     },
     "metadata": {
      "needs_background": "light"
     },
     "output_type": "display_data"
    }
   ],
   "source": [
    "plt.hist(pred_ooc)\n",
    "plt.title(\"Benign data prediction\")\n",
    "plt.xticks(range(10),lab_name, rotation=90)\n",
    "plt.show()"
   ]
  },
  {
   "cell_type": "code",
   "execution_count": 61,
   "metadata": {},
   "outputs": [
    {
     "data": {
      "image/png": "[encoded data removed]",
      "text/plain": [
       "<Figure size 432x288 with 1 Axes>"
      ]
     },
     "metadata": {
      "needs_background": "light"
     },
     "output_type": "display_data"
    }
   ],
   "source": [
    "plt.hist(np.max(prob_ooc,axis=1))\n",
    "plt.title(\"maximum prediction probability for ooc data\")\n",
    "plt.show()"
   ]
  },
  {
   "cell_type": "code",
   "execution_count": 77,
   "metadata": {},
   "outputs": [
    {
     "data": {
      "image/png": "[encoded data removed]",
      "text/plain": [
       "<Figure size 432x288 with 1 Axes>"
      ]
     },
     "metadata": {
      "needs_background": "light"
     },
     "output_type": "display_data"
    }
   ],
   "source": [
    "plt.scatter(pred_ooc,np.max(prob_ooc,axis=1),)\n",
    "plt.show()"
   ]
  },
  {
   "cell_type": "code",
   "execution_count": null,
   "metadata": {},
   "outputs": [],
   "source": []
  }
 ],
 "metadata": {
  "kernelspec": {
   "display_name": "osrnn",
   "language": "python",
   "name": "osrnn"
  },
  "language_info": {
   "codemirror_mode": {
    "name": "ipython",
    "version": 3
   },
   "file_extension": ".py",
   "mimetype": "text/x-python",
   "name": "python",
   "nbconvert_exporter": "python",
   "pygments_lexer": "ipython3",
   "version": "3.8.0"
  }
 },
 "nbformat": 4,
 "nbformat_minor": 4
}
