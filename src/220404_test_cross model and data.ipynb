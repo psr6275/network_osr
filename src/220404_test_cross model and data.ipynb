{
 "cells": [
  {
   "cell_type": "code",
   "execution_count": 1,
   "metadata": {},
   "outputs": [],
   "source": [
    "import pandas as pd\n",
    "import os"
   ]
  },
  {
   "cell_type": "code",
   "execution_count": 2,
   "metadata": {},
   "outputs": [],
   "source": [
    "result_dir = '../results/ids-dataset'"
   ]
  },
  {
   "cell_type": "markdown",
   "metadata": {},
   "source": [
    "# Load data"
   ]
  },
  {
   "cell_type": "code",
   "execution_count": 6,
   "metadata": {},
   "outputs": [],
   "source": [
    "df_tr17 = pd.read_parquet(os.path.join(result_dir,\"cicids2017_traindf.parquet\"))\n",
    "df_te17 = pd.read_parquet(os.path.join(result_dir,\"cicids2017_testdf.parquet\"))"
   ]
  },
  {
   "cell_type": "code",
   "execution_count": 7,
   "metadata": {},
   "outputs": [],
   "source": [
    "df_tr18 = pd.read_parquet(os.path.join(result_dir,\"cicids2018_traindf.parquet\"))\n",
    "df_te18 = pd.read_parquet(os.path.join(result_dir,\"cicids2018_testdf.parquet\"))"
   ]
  },
  {
   "cell_type": "markdown",
   "metadata": {},
   "source": [
    "# Load scalers and models"
   ]
  },
  {
   "cell_type": "code",
   "execution_count": 10,
   "metadata": {},
   "outputs": [],
   "source": [
    "import pickle\n",
    "with open(os.path.join(result_dir,\"cicids2017_LR_binary.pkl\"),\"rb\") as f:\n",
    "    lr_clf17 = pickle.load(f)\n",
    "with open(os.path.join(result_dir,\"cicids2018_LR_binary.pkl\"),\"rb\") as f:\n",
    "    lr_clf18 = pickle.load(f)\n",
    "with open(os.path.join(result_dir,\"cicids2017_LR_mult.pkl\"),\"rb\") as f:\n",
    "    lr_clfm17 = pickle.load(f)\n",
    "with open(os.path.join(result_dir,\"cicids2018_LR_mult.pkl\"),\"rb\") as f:\n",
    "    lr_clfm18 = pickle.load(f)"
   ]
  },
  {
   "cell_type": "code",
   "execution_count": 12,
   "metadata": {},
   "outputs": [],
   "source": [
    "with open(os.path.join(result_dir,\"cicids2018_stscaler_binary.pkl\"),'rb') as f:\n",
    "    st_scaler_bn18 = pickle.load(f)\n",
    "with open(os.path.join(result_dir,\"cicids2017_stscaler_binary.pkl\"),'rb') as f:\n",
    "    st_scaler_bn17 = pickle.load(f)\n",
    "with open(os.path.join(result_dir,\"cicids2017_stscaler.pkl\"),'rb') as f:\n",
    "    st_scaler_m17 = pickle.load(f)\n",
    "with open(os.path.join(result_dir,\"cicids2018_stscaler.pkl\"),'rb') as f:\n",
    "    st_scaler_m18 = pickle.load(f)    "
   ]
  },
  {
   "cell_type": "code",
   "execution_count": 34,
   "metadata": {},
   "outputs": [],
   "source": [
    "from utils import *"
   ]
  },
  {
   "cell_type": "code",
   "execution_count": 35,
   "metadata": {},
   "outputs": [
    {
     "name": "stdout",
     "output_type": "stream",
     "text": [
      "{'Web Attack \\x96 Brute Force': 0, 'Web Attack \\x96 XSS': 0, 'Web Attack \\x96 Sql Injection': 0, 'DDoS': 1, 'Bot': 2, 'DoS slowloris': 3, 'DoS Slowhttptest': 4, 'DoS Hulk': 5, 'DoS GoldenEye': 6, 'PortScan': 7, 'FTP-Patator': 8, 'SSH-Patator': 9}\n",
      "{'Brute Force -Web': 0, 'Brute Force -XSS': 0, 'SQL Injection': 0, 'DoS attacks-Hulk': 1, 'DoS attacks-GoldenEye': 2, 'DoS attacks-Slowloris': 3, 'Bot': 4, 'DDoS attacks-LOIC-HTTP': 5, 'DDOS attack-HOIC': 6, 'Infilteration': 7, 'FTP-BruteForce': 8, 'SSH-Bruteforce': 9}\n"
     ]
    }
   ],
   "source": [
    "lab_dic17, lab_name17 = cluster_labels_2017()\n",
    "lab_dic18, lab_name18 = cluster_labels_2018()"
   ]
  },
  {
   "cell_type": "code",
   "execution_count": 16,
   "metadata": {},
   "outputs": [
    {
     "name": "stdout",
     "output_type": "stream",
     "text": [
      "drop Benign\n",
      "drop Infiltration\n",
      "drop Heartbleed\n",
      "original instances:  1040360\n",
      "drop intances:  751106\n",
      "after drop:  289254\n",
      "drop Benign\n",
      "drop Infiltration\n",
      "drop Heartbleed\n",
      "original instances:  260090\n",
      "drop intances:  187670\n",
      "after drop:  72420\n"
     ]
    }
   ],
   "source": [
    "train_mul17 = set_multiple_label(df_tr17,label_col='Label', label_dic = lab_dic17, return_col=False)\n",
    "test_mul17 = set_multiple_label(df_te17,label_col='Label', label_dic = lab_dic17, return_col=False)"
   ]
  },
  {
   "cell_type": "code",
   "execution_count": 17,
   "metadata": {},
   "outputs": [
    {
     "name": "stdout",
     "output_type": "stream",
     "text": [
      "drop Benign\n",
      "drop DoS attacks-SlowHTTPTest\n",
      "original instances:  5971201\n",
      "drop intances:  5310540\n",
      "after drop:  660661\n",
      "drop Benign\n",
      "drop DoS attacks-SlowHTTPTest\n",
      "original instances:  1492801\n",
      "drop intances:  1327411\n",
      "after drop:  165390\n"
     ]
    }
   ],
   "source": [
    "train_mul18 = set_multiple_label(df_tr18,label_col='Label', label_dic = lab_dic18, return_col=False)\n",
    "test_mul18 = set_multiple_label(df_te18,label_col='Label', label_dic = lab_dic18, return_col=False)"
   ]
  },
  {
   "cell_type": "code",
   "execution_count": 18,
   "metadata": {},
   "outputs": [],
   "source": [
    "trainx_m17 = train_mul17.loc[:,train_mul17.columns!='Label']\n",
    "trainy_m17 = train_mul17['Label']\n",
    "testx_m17 = test_mul17.loc[:,test_mul17.columns!='Label']\n",
    "testy_m17 = test_mul17['Label']"
   ]
  },
  {
   "cell_type": "code",
   "execution_count": 19,
   "metadata": {},
   "outputs": [
    {
     "data": {
      "text/plain": [
       "1            80.0\n",
       "4            80.0\n",
       "5          3211.0\n",
       "7            80.0\n",
       "9            80.0\n",
       "           ...   \n",
       "260078       80.0\n",
       "260081    30951.0\n",
       "260083     1154.0\n",
       "260084       21.0\n",
       "260088       80.0\n",
       "Name: Destination Port, Length: 72420, dtype: float64"
      ]
     },
     "execution_count": 19,
     "metadata": {},
     "output_type": "execute_result"
    }
   ],
   "source": [
    "testx_m17[testx_m17.columns[0]]"
   ]
  },
  {
   "cell_type": "code",
   "execution_count": 20,
   "metadata": {},
   "outputs": [],
   "source": [
    "trainx_m18 = train_mul18.loc[:,train_mul18.columns!='Label']\n",
    "trainy_m18 = train_mul18['Label']\n",
    "testx_m18 = test_mul18.loc[:,test_mul18.columns!='Label']\n",
    "testy_m18 = test_mul18['Label']"
   ]
  },
  {
   "cell_type": "code",
   "execution_count": 21,
   "metadata": {},
   "outputs": [],
   "source": [
    "def apply_clf_with_scaler(clf, scaler, df_x, prob = False):\n",
    "    df_x_st = scaler.transform(df_x)\n",
    "    if prob:\n",
    "        return clf.predict_proba(df_x_st)\n",
    "    else:\n",
    "        return clf.predict(df_x_st)\n",
    "def score_clf_with_scaler(clf, scaler, df_x, df_y):\n",
    "    df_x_st = scaler.transform(df_x)\n",
    "    return clf.score(df_x_st, df_y)"
   ]
  },
  {
   "cell_type": "code",
   "execution_count": 22,
   "metadata": {},
   "outputs": [
    {
     "name": "stdout",
     "output_type": "stream",
     "text": [
      "test acc for attack classification 0.9990196078431373\n",
      "test acc for attack classification 0.999673499002358\n"
     ]
    }
   ],
   "source": [
    "print(\"test acc for attack classification\", \\\n",
    "      score_clf_with_scaler(lr_clfm17,st_scaler_m17,testx_m17,testy_m17))\n",
    "print(\"test acc for attack classification\",\\\n",
    "      score_clf_with_scaler(lr_clfm18,st_scaler_m18,testx_m18,testy_m18))"
   ]
  },
  {
   "cell_type": "code",
   "execution_count": 23,
   "metadata": {},
   "outputs": [
    {
     "name": "stderr",
     "output_type": "stream",
     "text": [
      "/home/srp/.pyenv/versions/torchnlp/lib/python3.8/site-packages/matplotlib/backends/backend_agg.py:240: RuntimeWarning: Glyph 150 missing from current font.\n",
      "  font.set_text(s, 0.0, flags=flags)\n",
      "/home/srp/.pyenv/versions/torchnlp/lib/python3.8/site-packages/matplotlib/backends/backend_agg.py:203: RuntimeWarning: Glyph 150 missing from current font.\n",
      "  font.set_text(s, 0, flags=flags)\n"
     ]
    },
    {
     "data": {
      "image/png": "[encoded data removed]",
      "text/plain": [
       "<Figure size 432x288 with 1 Axes>"
      ]
     },
     "metadata": {
      "needs_background": "light"
     },
     "output_type": "display_data"
    }
   ],
   "source": [
    "import matplotlib.pyplot as plt\n",
    "ax17 = df_tr17['Label'].value_counts().plot(kind='bar')"
   ]
  },
  {
   "cell_type": "code",
   "execution_count": 24,
   "metadata": {},
   "outputs": [
    {
     "data": {
      "image/png": "[encoded data removed]",
      "text/plain": [
       "<Figure size 432x288 with 1 Axes>"
      ]
     },
     "metadata": {
      "needs_background": "light"
     },
     "output_type": "display_data"
    }
   ],
   "source": [
    "ax18 = df_tr18['Label'].value_counts().plot(kind='bar')"
   ]
  },
  {
   "cell_type": "code",
   "execution_count": 25,
   "metadata": {},
   "outputs": [
    {
     "name": "stdout",
     "output_type": "stream",
     "text": [
      "['Web Attack', 'DDoS', 'Bot', 'DoS slowloris', 'DoS Slowhttptest', 'DoS Hulk', 'DoS GoldenEye', 'PortScan', 'FTP-Patator', 'SSH-Patator']\n",
      "['Web Attack', 'DoS attacks-Hulk', 'DoS attacks-GoldenEye', 'DoS attacks-Slowloris', 'Bot', 'DDoS attacks-LOIC-HTTP', 'DDOS attack-HOIC', 'Infilteration', 'FTP-BruteForce', 'SSH-Bruteforce']\n"
     ]
    }
   ],
   "source": [
    "print(lab_name17)\n",
    "print(lab_name18)"
   ]
  },
  {
   "cell_type": "markdown",
   "metadata": {},
   "source": [
    "# test across datasets"
   ]
  },
  {
   "cell_type": "markdown",
   "metadata": {},
   "source": [
    "## 18 -> 17"
   ]
  },
  {
   "cell_type": "code",
   "execution_count": 28,
   "metadata": {},
   "outputs": [],
   "source": [
    "ooc_col = 9 # \n",
    "true_col = 9 # \n",
    "ooc_idx = (train_mul18['Label']==ooc_col)\n",
    "train_ooc = train_mul18.loc[ooc_idx]\n",
    "train_ooc = train_ooc.loc[:,train_ooc.columns!='Label']"
   ]
  },
  {
   "cell_type": "code",
   "execution_count": 29,
   "metadata": {},
   "outputs": [],
   "source": [
    "import collections\n",
    "ct = collections.Counter(train_ooc['Destination Port'].values)"
   ]
  },
  {
   "cell_type": "code",
   "execution_count": 30,
   "metadata": {},
   "outputs": [
    {
     "data": {
      "text/plain": [
       "(75161, 67)"
      ]
     },
     "execution_count": 30,
     "metadata": {},
     "output_type": "execute_result"
    }
   ],
   "source": [
    "train_ooc.shape"
   ]
  },
  {
   "cell_type": "code",
   "execution_count": 31,
   "metadata": {},
   "outputs": [],
   "source": [
    "pred = apply_clf_with_scaler(lr_clfm17,st_scaler_m17, train_ooc)"
   ]
  },
  {
   "cell_type": "code",
   "execution_count": 32,
   "metadata": {},
   "outputs": [
    {
     "data": {
      "text/plain": [
       "0.9995476377376565"
      ]
     },
     "execution_count": 32,
     "metadata": {},
     "output_type": "execute_result"
    }
   ],
   "source": [
    "sum(pred ==true_col)/len(pred)"
   ]
  },
  {
   "cell_type": "code",
   "execution_count": 33,
   "metadata": {},
   "outputs": [
    {
     "data": {
      "image/png": "[encoded data removed]",
      "text/plain": [
       "<Figure size 432x288 with 1 Axes>"
      ]
     },
     "metadata": {
      "needs_background": "light"
     },
     "output_type": "display_data"
    }
   ],
   "source": [
    "import matplotlib.pyplot as plt\n",
    "plt.hist(pred)\n",
    "plt.show()"
   ]
  },
  {
   "cell_type": "code",
   "execution_count": null,
   "metadata": {},
   "outputs": [],
   "source": []
  }
 ],
 "metadata": {
  "kernelspec": {
   "display_name": "pytorch18 NLP",
   "language": "python",
   "name": "torchnlp"
  },
  "language_info": {
   "codemirror_mode": {
    "name": "ipython",
    "version": 3
   },
   "file_extension": ".py",
   "mimetype": "text/x-python",
   "name": "python",
   "nbconvert_exporter": "python",
   "pygments_lexer": "ipython3",
   "version": "3.8.3"
  }
 },
 "nbformat": 4,
 "nbformat_minor": 4
}
